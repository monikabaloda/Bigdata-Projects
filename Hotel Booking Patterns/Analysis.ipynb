{
  "nbformat": 4,
  "nbformat_minor": 0,
  "metadata": {
    "colab": {
      "provenance": []
    },
    "kernelspec": {
      "name": "python3",
      "display_name": "Python 3"
    },
    "language_info": {
      "name": "python"
    }
  },
  "cells": [
    {
      "cell_type": "markdown",
      "source": [
        "#We do the followings in this notebook\n",
        "1. Principal Component Analysis \\\\\n",
        "    -Keep numerical variables only \\\\\n",
        "    -Drop not distance variables e.g. unique_id \\\\\n",
        "    -Normalizing variables to avoid scale effect \\\\\n",
        "    -Run PCA algrorithm to get certain PCs\n",
        "\n",
        "2. Clustering Analysis \\\\\n",
        "   -Cluster/group the data based on similarities     between different PC values. \\\\\n",
        "   -Make a choice to select appropriate number of clusters. \n",
        "  "
      ],
      "metadata": {
        "id": "W0LEJtSGQKUx"
      }
    },
    {
      "cell_type": "markdown",
      "source": [
        "Importing Libraries and setting directories"
      ],
      "metadata": {
        "id": "GdJNK1yAME8p"
      }
    },
    {
      "cell_type": "code",
      "execution_count": null,
      "metadata": {
        "id": "A50WdiNiffYR",
        "colab": {
          "base_uri": "https://localhost:8080/"
        },
        "outputId": "ace29d28-aa5b-4ae6-fc52-0fe125190dcc"
      },
      "outputs": [
        {
          "output_type": "stream",
          "name": "stdout",
          "text": [
            "Mounted at /content/drive\n",
            " Analysis.ipynb    data.txt   master_file.csv\n",
            " cleaning.ipynb    data.zip  'Project Proposal.gdoc'\n",
            " data.sample.csv   dest.zip  'STAT206_Project Report.gdoc'\n",
            "/content/drive/MyDrive/UCR/Q2/STAT206/Project\n"
          ]
        }
      ],
      "source": [
        "import numpy as np\n",
        "import pandas as pd\n",
        "\n",
        "# mount google drive\n",
        "from google.colab import drive\n",
        "drive.mount('/content/drive',force_remount=True)\n",
        "\n",
        "#setting current directory \n",
        "%ls drive/MyDrive/UCR/Q2/STAT206/Project\n",
        "%cd drive/MyDrive/UCR/Q2/STAT206/Project"
      ]
    },
    {
      "cell_type": "markdown",
      "source": [
        "\n",
        "\n",
        "## Using master file : merged of data.zip and dest.zip\n"
      ],
      "metadata": {
        "id": "Z8B_8zKHgh4T"
      }
    },
    {
      "cell_type": "code",
      "source": [
        "data = pd.read_csv('master_file.csv')"
      ],
      "metadata": {
        "id": "VMD2pRsBftFy"
      },
      "execution_count": null,
      "outputs": []
    },
    {
      "cell_type": "code",
      "source": [
        "data.shape"
      ],
      "metadata": {
        "id": "LpCydyKEkROJ",
        "colab": {
          "base_uri": "https://localhost:8080/"
        },
        "outputId": "e63602f3-be6c-4e80-ae5a-26bb38013547"
      },
      "execution_count": null,
      "outputs": [
        {
          "output_type": "execute_result",
          "data": {
            "text/plain": [
              "(106847, 173)"
            ]
          },
          "metadata": {},
          "execution_count": 5
        }
      ]
    },
    {
      "cell_type": "code",
      "source": [
        "data.columns\n",
        "data.info()"
      ],
      "metadata": {
        "id": "XtoQE6iSkE76",
        "colab": {
          "base_uri": "https://localhost:8080/"
        },
        "outputId": "d800a7b0-ff57-4663-96ad-9b7582e50997"
      },
      "execution_count": null,
      "outputs": [
        {
          "output_type": "stream",
          "name": "stdout",
          "text": [
            "<class 'pandas.core.frame.DataFrame'>\n",
            "RangeIndex: 106847 entries, 0 to 106846\n",
            "Columns: 173 entries, Unnamed: 0.2 to popular_attraction_zoo\n",
            "dtypes: float64(145), int64(16), object(12)\n",
            "memory usage: 141.0+ MB\n"
          ]
        }
      ]
    },
    {
      "cell_type": "markdown",
      "source": [
        "Just checking if there is any missing values"
      ],
      "metadata": {
        "id": "f62ly6inM1z2"
      }
    },
    {
      "cell_type": "code",
      "source": [
        "data.isna().sum().sum()  "
      ],
      "metadata": {
        "colab": {
          "base_uri": "https://localhost:8080/"
        },
        "id": "K8LrphYxMs8d",
        "outputId": "6c8bed6a-17b7-48ed-8197-bf6cdb5b6f03"
      },
      "execution_count": null,
      "outputs": [
        {
          "output_type": "execute_result",
          "data": {
            "text/plain": [
              "0"
            ]
          },
          "metadata": {},
          "execution_count": 7
        }
      ]
    },
    {
      "cell_type": "markdown",
      "source": [
        "##Keeping Numeric Variables Only for clustering\n",
        "A distance can be caluclated between two numerical variables, therefore, we can only use numeric variables for clustering"
      ],
      "metadata": {
        "id": "mzLTIA4aGXcM"
      }
    },
    {
      "cell_type": "code",
      "source": [
        "df=data.select_dtypes(include=np.number)\n",
        "df.head()"
      ],
      "metadata": {
        "colab": {
          "base_uri": "https://localhost:8080/",
          "height": 317
        },
        "id": "KK0AHKjpGiKz",
        "outputId": "9ee9fe5d-d305-4eaa-dd98-87c97eb3359d"
      },
      "execution_count": null,
      "outputs": [
        {
          "output_type": "execute_result",
          "data": {
            "text/plain": [
              "   Unnamed: 0.2  Unnamed: 0  Unnamed: 0.1    user_id  user_location_latitude  \\\n",
              "0             3           3          1348  458489400               40.494050   \n",
              "1             4           4          1975  -78578705               40.667806   \n",
              "2             5           5          1980  -78578705               40.667806   \n",
              "3             6           6          1985  -78578705               40.667806   \n",
              "4             7           7          1986  -78578705               40.667806   \n",
              "\n",
              "   user_location_longitude  orig_destination_distance  is_mobile  is_package  \\\n",
              "0               -82.728010                  1005.0921          0           0   \n",
              "1               -73.791989                  1069.4145          0           0   \n",
              "2               -73.791989                  1069.4145          0           0   \n",
              "3               -73.791989                  1069.4145          0           0   \n",
              "4               -73.791989                  1069.4145          0           0   \n",
              "\n",
              "   channel  ...  popular_naturalfeature_volcanoes  popular_activity_walking  \\\n",
              "0      541  ...                         -2.274479                 -1.870351   \n",
              "1      324  ...                         -2.274479                 -1.870351   \n",
              "2      262  ...                         -2.274479                 -1.870351   \n",
              "3      324  ...                         -2.274479                 -1.870351   \n",
              "4      324  ...                         -2.274479                 -1.870351   \n",
              "\n",
              "   popular_activity_waterskiing  popular_naturalfeature_waterfalls  \\\n",
              "0                     -2.218907                          -2.259097   \n",
              "1                     -2.218907                          -2.259097   \n",
              "2                     -2.218907                          -2.259097   \n",
              "3                     -2.218907                          -2.259097   \n",
              "4                     -2.218907                          -2.259097   \n",
              "\n",
              "   popular_attraction_waterparks  popular_activity_whalewatching  \\\n",
              "0                      -2.274043                       -2.273714   \n",
              "1                      -2.274043                       -2.273714   \n",
              "2                      -2.274043                       -2.273714   \n",
              "3                      -2.274043                       -2.273714   \n",
              "4                      -2.274043                       -2.273714   \n",
              "\n",
              "   popular_naturalfeature_wildlife  popular_activity_windsurfing  \\\n",
              "0                        -2.274479                      -2.22236   \n",
              "1                        -2.274479                      -2.22236   \n",
              "2                        -2.274479                      -2.22236   \n",
              "3                        -2.274479                      -2.22236   \n",
              "4                        -2.274479                      -2.22236   \n",
              "\n",
              "   popular_attraction_wineries  popular_attraction_zoo  \n",
              "0                    -2.274479               -2.272933  \n",
              "1                    -2.274479               -2.272933  \n",
              "2                    -2.274479               -2.272933  \n",
              "3                    -2.274479               -2.272933  \n",
              "4                    -2.274479               -2.272933  \n",
              "\n",
              "[5 rows x 161 columns]"
            ],
            "text/html": [
              "\n",
              "  <div id=\"df-fd5774bb-4ffc-4142-b9ea-74fe0b01bde4\">\n",
              "    <div class=\"colab-df-container\">\n",
              "      <div>\n",
              "<style scoped>\n",
              "    .dataframe tbody tr th:only-of-type {\n",
              "        vertical-align: middle;\n",
              "    }\n",
              "\n",
              "    .dataframe tbody tr th {\n",
              "        vertical-align: top;\n",
              "    }\n",
              "\n",
              "    .dataframe thead th {\n",
              "        text-align: right;\n",
              "    }\n",
              "</style>\n",
              "<table border=\"1\" class=\"dataframe\">\n",
              "  <thead>\n",
              "    <tr style=\"text-align: right;\">\n",
              "      <th></th>\n",
              "      <th>Unnamed: 0.2</th>\n",
              "      <th>Unnamed: 0</th>\n",
              "      <th>Unnamed: 0.1</th>\n",
              "      <th>user_id</th>\n",
              "      <th>user_location_latitude</th>\n",
              "      <th>user_location_longitude</th>\n",
              "      <th>orig_destination_distance</th>\n",
              "      <th>is_mobile</th>\n",
              "      <th>is_package</th>\n",
              "      <th>channel</th>\n",
              "      <th>...</th>\n",
              "      <th>popular_naturalfeature_volcanoes</th>\n",
              "      <th>popular_activity_walking</th>\n",
              "      <th>popular_activity_waterskiing</th>\n",
              "      <th>popular_naturalfeature_waterfalls</th>\n",
              "      <th>popular_attraction_waterparks</th>\n",
              "      <th>popular_activity_whalewatching</th>\n",
              "      <th>popular_naturalfeature_wildlife</th>\n",
              "      <th>popular_activity_windsurfing</th>\n",
              "      <th>popular_attraction_wineries</th>\n",
              "      <th>popular_attraction_zoo</th>\n",
              "    </tr>\n",
              "  </thead>\n",
              "  <tbody>\n",
              "    <tr>\n",
              "      <th>0</th>\n",
              "      <td>3</td>\n",
              "      <td>3</td>\n",
              "      <td>1348</td>\n",
              "      <td>458489400</td>\n",
              "      <td>40.494050</td>\n",
              "      <td>-82.728010</td>\n",
              "      <td>1005.0921</td>\n",
              "      <td>0</td>\n",
              "      <td>0</td>\n",
              "      <td>541</td>\n",
              "      <td>...</td>\n",
              "      <td>-2.274479</td>\n",
              "      <td>-1.870351</td>\n",
              "      <td>-2.218907</td>\n",
              "      <td>-2.259097</td>\n",
              "      <td>-2.274043</td>\n",
              "      <td>-2.273714</td>\n",
              "      <td>-2.274479</td>\n",
              "      <td>-2.22236</td>\n",
              "      <td>-2.274479</td>\n",
              "      <td>-2.272933</td>\n",
              "    </tr>\n",
              "    <tr>\n",
              "      <th>1</th>\n",
              "      <td>4</td>\n",
              "      <td>4</td>\n",
              "      <td>1975</td>\n",
              "      <td>-78578705</td>\n",
              "      <td>40.667806</td>\n",
              "      <td>-73.791989</td>\n",
              "      <td>1069.4145</td>\n",
              "      <td>0</td>\n",
              "      <td>0</td>\n",
              "      <td>324</td>\n",
              "      <td>...</td>\n",
              "      <td>-2.274479</td>\n",
              "      <td>-1.870351</td>\n",
              "      <td>-2.218907</td>\n",
              "      <td>-2.259097</td>\n",
              "      <td>-2.274043</td>\n",
              "      <td>-2.273714</td>\n",
              "      <td>-2.274479</td>\n",
              "      <td>-2.22236</td>\n",
              "      <td>-2.274479</td>\n",
              "      <td>-2.272933</td>\n",
              "    </tr>\n",
              "    <tr>\n",
              "      <th>2</th>\n",
              "      <td>5</td>\n",
              "      <td>5</td>\n",
              "      <td>1980</td>\n",
              "      <td>-78578705</td>\n",
              "      <td>40.667806</td>\n",
              "      <td>-73.791989</td>\n",
              "      <td>1069.4145</td>\n",
              "      <td>0</td>\n",
              "      <td>0</td>\n",
              "      <td>262</td>\n",
              "      <td>...</td>\n",
              "      <td>-2.274479</td>\n",
              "      <td>-1.870351</td>\n",
              "      <td>-2.218907</td>\n",
              "      <td>-2.259097</td>\n",
              "      <td>-2.274043</td>\n",
              "      <td>-2.273714</td>\n",
              "      <td>-2.274479</td>\n",
              "      <td>-2.22236</td>\n",
              "      <td>-2.274479</td>\n",
              "      <td>-2.272933</td>\n",
              "    </tr>\n",
              "    <tr>\n",
              "      <th>3</th>\n",
              "      <td>6</td>\n",
              "      <td>6</td>\n",
              "      <td>1985</td>\n",
              "      <td>-78578705</td>\n",
              "      <td>40.667806</td>\n",
              "      <td>-73.791989</td>\n",
              "      <td>1069.4145</td>\n",
              "      <td>0</td>\n",
              "      <td>0</td>\n",
              "      <td>324</td>\n",
              "      <td>...</td>\n",
              "      <td>-2.274479</td>\n",
              "      <td>-1.870351</td>\n",
              "      <td>-2.218907</td>\n",
              "      <td>-2.259097</td>\n",
              "      <td>-2.274043</td>\n",
              "      <td>-2.273714</td>\n",
              "      <td>-2.274479</td>\n",
              "      <td>-2.22236</td>\n",
              "      <td>-2.274479</td>\n",
              "      <td>-2.272933</td>\n",
              "    </tr>\n",
              "    <tr>\n",
              "      <th>4</th>\n",
              "      <td>7</td>\n",
              "      <td>7</td>\n",
              "      <td>1986</td>\n",
              "      <td>-78578705</td>\n",
              "      <td>40.667806</td>\n",
              "      <td>-73.791989</td>\n",
              "      <td>1069.4145</td>\n",
              "      <td>0</td>\n",
              "      <td>0</td>\n",
              "      <td>324</td>\n",
              "      <td>...</td>\n",
              "      <td>-2.274479</td>\n",
              "      <td>-1.870351</td>\n",
              "      <td>-2.218907</td>\n",
              "      <td>-2.259097</td>\n",
              "      <td>-2.274043</td>\n",
              "      <td>-2.273714</td>\n",
              "      <td>-2.274479</td>\n",
              "      <td>-2.22236</td>\n",
              "      <td>-2.274479</td>\n",
              "      <td>-2.272933</td>\n",
              "    </tr>\n",
              "  </tbody>\n",
              "</table>\n",
              "<p>5 rows × 161 columns</p>\n",
              "</div>\n",
              "      <button class=\"colab-df-convert\" onclick=\"convertToInteractive('df-fd5774bb-4ffc-4142-b9ea-74fe0b01bde4')\"\n",
              "              title=\"Convert this dataframe to an interactive table.\"\n",
              "              style=\"display:none;\">\n",
              "        \n",
              "  <svg xmlns=\"http://www.w3.org/2000/svg\" height=\"24px\"viewBox=\"0 0 24 24\"\n",
              "       width=\"24px\">\n",
              "    <path d=\"M0 0h24v24H0V0z\" fill=\"none\"/>\n",
              "    <path d=\"M18.56 5.44l.94 2.06.94-2.06 2.06-.94-2.06-.94-.94-2.06-.94 2.06-2.06.94zm-11 1L8.5 8.5l.94-2.06 2.06-.94-2.06-.94L8.5 2.5l-.94 2.06-2.06.94zm10 10l.94 2.06.94-2.06 2.06-.94-2.06-.94-.94-2.06-.94 2.06-2.06.94z\"/><path d=\"M17.41 7.96l-1.37-1.37c-.4-.4-.92-.59-1.43-.59-.52 0-1.04.2-1.43.59L10.3 9.45l-7.72 7.72c-.78.78-.78 2.05 0 2.83L4 21.41c.39.39.9.59 1.41.59.51 0 1.02-.2 1.41-.59l7.78-7.78 2.81-2.81c.8-.78.8-2.07 0-2.86zM5.41 20L4 18.59l7.72-7.72 1.47 1.35L5.41 20z\"/>\n",
              "  </svg>\n",
              "      </button>\n",
              "      \n",
              "  <style>\n",
              "    .colab-df-container {\n",
              "      display:flex;\n",
              "      flex-wrap:wrap;\n",
              "      gap: 12px;\n",
              "    }\n",
              "\n",
              "    .colab-df-convert {\n",
              "      background-color: #E8F0FE;\n",
              "      border: none;\n",
              "      border-radius: 50%;\n",
              "      cursor: pointer;\n",
              "      display: none;\n",
              "      fill: #1967D2;\n",
              "      height: 32px;\n",
              "      padding: 0 0 0 0;\n",
              "      width: 32px;\n",
              "    }\n",
              "\n",
              "    .colab-df-convert:hover {\n",
              "      background-color: #E2EBFA;\n",
              "      box-shadow: 0px 1px 2px rgba(60, 64, 67, 0.3), 0px 1px 3px 1px rgba(60, 64, 67, 0.15);\n",
              "      fill: #174EA6;\n",
              "    }\n",
              "\n",
              "    [theme=dark] .colab-df-convert {\n",
              "      background-color: #3B4455;\n",
              "      fill: #D2E3FC;\n",
              "    }\n",
              "\n",
              "    [theme=dark] .colab-df-convert:hover {\n",
              "      background-color: #434B5C;\n",
              "      box-shadow: 0px 1px 3px 1px rgba(0, 0, 0, 0.15);\n",
              "      filter: drop-shadow(0px 1px 2px rgba(0, 0, 0, 0.3));\n",
              "      fill: #FFFFFF;\n",
              "    }\n",
              "  </style>\n",
              "\n",
              "      <script>\n",
              "        const buttonEl =\n",
              "          document.querySelector('#df-fd5774bb-4ffc-4142-b9ea-74fe0b01bde4 button.colab-df-convert');\n",
              "        buttonEl.style.display =\n",
              "          google.colab.kernel.accessAllowed ? 'block' : 'none';\n",
              "\n",
              "        async function convertToInteractive(key) {\n",
              "          const element = document.querySelector('#df-fd5774bb-4ffc-4142-b9ea-74fe0b01bde4');\n",
              "          const dataTable =\n",
              "            await google.colab.kernel.invokeFunction('convertToInteractive',\n",
              "                                                     [key], {});\n",
              "          if (!dataTable) return;\n",
              "\n",
              "          const docLinkHtml = 'Like what you see? Visit the ' +\n",
              "            '<a target=\"_blank\" href=https://colab.research.google.com/notebooks/data_table.ipynb>data table notebook</a>'\n",
              "            + ' to learn more about interactive tables.';\n",
              "          element.innerHTML = '';\n",
              "          dataTable['output_type'] = 'display_data';\n",
              "          await google.colab.output.renderOutput(dataTable, element);\n",
              "          const docLink = document.createElement('div');\n",
              "          docLink.innerHTML = docLinkHtml;\n",
              "          element.appendChild(docLink);\n",
              "        }\n",
              "      </script>\n",
              "    </div>\n",
              "  </div>\n",
              "  "
            ]
          },
          "metadata": {},
          "execution_count": 8
        }
      ]
    },
    {
      "cell_type": "code",
      "source": [
        "df = df.drop(df.columns[[0, 1,2,3]], axis=1)\n",
        "df = df.drop('hotel_id', axis=1)\n",
        "\n",
        "df.head()"
      ],
      "metadata": {
        "colab": {
          "base_uri": "https://localhost:8080/",
          "height": 299
        },
        "id": "D1w6o_GmG0no",
        "outputId": "814f1320-e9b4-4db4-d932-05401c93dcd5"
      },
      "execution_count": null,
      "outputs": [
        {
          "output_type": "execute_result",
          "data": {
            "text/plain": [
              "   user_location_latitude  user_location_longitude  orig_destination_distance  \\\n",
              "0               40.494050               -82.728010                  1005.0921   \n",
              "1               40.667806               -73.791989                  1069.4145   \n",
              "2               40.667806               -73.791989                  1069.4145   \n",
              "3               40.667806               -73.791989                  1069.4145   \n",
              "4               40.667806               -73.791989                  1069.4145   \n",
              "\n",
              "   is_mobile  is_package  channel  srch_adults_cnt  srch_children_cnt  \\\n",
              "0          0           0      541                2                  0   \n",
              "1          0           0      324                2                  0   \n",
              "2          0           0      262                2                  0   \n",
              "3          0           0      324                1                  0   \n",
              "4          0           0      324                2                  0   \n",
              "\n",
              "   srch_rm_cnt  srch_destination_id  ...  popular_naturalfeature_volcanoes  \\\n",
              "0            1             18654373  ...                         -2.274479   \n",
              "1            1             18654373  ...                         -2.274479   \n",
              "2            1             18654373  ...                         -2.274479   \n",
              "3            1             18654373  ...                         -2.274479   \n",
              "4            1             18654373  ...                         -2.274479   \n",
              "\n",
              "   popular_activity_walking  popular_activity_waterskiing  \\\n",
              "0                 -1.870351                     -2.218907   \n",
              "1                 -1.870351                     -2.218907   \n",
              "2                 -1.870351                     -2.218907   \n",
              "3                 -1.870351                     -2.218907   \n",
              "4                 -1.870351                     -2.218907   \n",
              "\n",
              "   popular_naturalfeature_waterfalls  popular_attraction_waterparks  \\\n",
              "0                          -2.259097                      -2.274043   \n",
              "1                          -2.259097                      -2.274043   \n",
              "2                          -2.259097                      -2.274043   \n",
              "3                          -2.259097                      -2.274043   \n",
              "4                          -2.259097                      -2.274043   \n",
              "\n",
              "   popular_activity_whalewatching  popular_naturalfeature_wildlife  \\\n",
              "0                       -2.273714                        -2.274479   \n",
              "1                       -2.273714                        -2.274479   \n",
              "2                       -2.273714                        -2.274479   \n",
              "3                       -2.273714                        -2.274479   \n",
              "4                       -2.273714                        -2.274479   \n",
              "\n",
              "   popular_activity_windsurfing  popular_attraction_wineries  \\\n",
              "0                      -2.22236                    -2.274479   \n",
              "1                      -2.22236                    -2.274479   \n",
              "2                      -2.22236                    -2.274479   \n",
              "3                      -2.22236                    -2.274479   \n",
              "4                      -2.22236                    -2.274479   \n",
              "\n",
              "   popular_attraction_zoo  \n",
              "0               -2.272933  \n",
              "1               -2.272933  \n",
              "2               -2.272933  \n",
              "3               -2.272933  \n",
              "4               -2.272933  \n",
              "\n",
              "[5 rows x 156 columns]"
            ],
            "text/html": [
              "\n",
              "  <div id=\"df-28c20819-16b2-43b6-abef-47f5dfb9fc09\">\n",
              "    <div class=\"colab-df-container\">\n",
              "      <div>\n",
              "<style scoped>\n",
              "    .dataframe tbody tr th:only-of-type {\n",
              "        vertical-align: middle;\n",
              "    }\n",
              "\n",
              "    .dataframe tbody tr th {\n",
              "        vertical-align: top;\n",
              "    }\n",
              "\n",
              "    .dataframe thead th {\n",
              "        text-align: right;\n",
              "    }\n",
              "</style>\n",
              "<table border=\"1\" class=\"dataframe\">\n",
              "  <thead>\n",
              "    <tr style=\"text-align: right;\">\n",
              "      <th></th>\n",
              "      <th>user_location_latitude</th>\n",
              "      <th>user_location_longitude</th>\n",
              "      <th>orig_destination_distance</th>\n",
              "      <th>is_mobile</th>\n",
              "      <th>is_package</th>\n",
              "      <th>channel</th>\n",
              "      <th>srch_adults_cnt</th>\n",
              "      <th>srch_children_cnt</th>\n",
              "      <th>srch_rm_cnt</th>\n",
              "      <th>srch_destination_id</th>\n",
              "      <th>...</th>\n",
              "      <th>popular_naturalfeature_volcanoes</th>\n",
              "      <th>popular_activity_walking</th>\n",
              "      <th>popular_activity_waterskiing</th>\n",
              "      <th>popular_naturalfeature_waterfalls</th>\n",
              "      <th>popular_attraction_waterparks</th>\n",
              "      <th>popular_activity_whalewatching</th>\n",
              "      <th>popular_naturalfeature_wildlife</th>\n",
              "      <th>popular_activity_windsurfing</th>\n",
              "      <th>popular_attraction_wineries</th>\n",
              "      <th>popular_attraction_zoo</th>\n",
              "    </tr>\n",
              "  </thead>\n",
              "  <tbody>\n",
              "    <tr>\n",
              "      <th>0</th>\n",
              "      <td>40.494050</td>\n",
              "      <td>-82.728010</td>\n",
              "      <td>1005.0921</td>\n",
              "      <td>0</td>\n",
              "      <td>0</td>\n",
              "      <td>541</td>\n",
              "      <td>2</td>\n",
              "      <td>0</td>\n",
              "      <td>1</td>\n",
              "      <td>18654373</td>\n",
              "      <td>...</td>\n",
              "      <td>-2.274479</td>\n",
              "      <td>-1.870351</td>\n",
              "      <td>-2.218907</td>\n",
              "      <td>-2.259097</td>\n",
              "      <td>-2.274043</td>\n",
              "      <td>-2.273714</td>\n",
              "      <td>-2.274479</td>\n",
              "      <td>-2.22236</td>\n",
              "      <td>-2.274479</td>\n",
              "      <td>-2.272933</td>\n",
              "    </tr>\n",
              "    <tr>\n",
              "      <th>1</th>\n",
              "      <td>40.667806</td>\n",
              "      <td>-73.791989</td>\n",
              "      <td>1069.4145</td>\n",
              "      <td>0</td>\n",
              "      <td>0</td>\n",
              "      <td>324</td>\n",
              "      <td>2</td>\n",
              "      <td>0</td>\n",
              "      <td>1</td>\n",
              "      <td>18654373</td>\n",
              "      <td>...</td>\n",
              "      <td>-2.274479</td>\n",
              "      <td>-1.870351</td>\n",
              "      <td>-2.218907</td>\n",
              "      <td>-2.259097</td>\n",
              "      <td>-2.274043</td>\n",
              "      <td>-2.273714</td>\n",
              "      <td>-2.274479</td>\n",
              "      <td>-2.22236</td>\n",
              "      <td>-2.274479</td>\n",
              "      <td>-2.272933</td>\n",
              "    </tr>\n",
              "    <tr>\n",
              "      <th>2</th>\n",
              "      <td>40.667806</td>\n",
              "      <td>-73.791989</td>\n",
              "      <td>1069.4145</td>\n",
              "      <td>0</td>\n",
              "      <td>0</td>\n",
              "      <td>262</td>\n",
              "      <td>2</td>\n",
              "      <td>0</td>\n",
              "      <td>1</td>\n",
              "      <td>18654373</td>\n",
              "      <td>...</td>\n",
              "      <td>-2.274479</td>\n",
              "      <td>-1.870351</td>\n",
              "      <td>-2.218907</td>\n",
              "      <td>-2.259097</td>\n",
              "      <td>-2.274043</td>\n",
              "      <td>-2.273714</td>\n",
              "      <td>-2.274479</td>\n",
              "      <td>-2.22236</td>\n",
              "      <td>-2.274479</td>\n",
              "      <td>-2.272933</td>\n",
              "    </tr>\n",
              "    <tr>\n",
              "      <th>3</th>\n",
              "      <td>40.667806</td>\n",
              "      <td>-73.791989</td>\n",
              "      <td>1069.4145</td>\n",
              "      <td>0</td>\n",
              "      <td>0</td>\n",
              "      <td>324</td>\n",
              "      <td>1</td>\n",
              "      <td>0</td>\n",
              "      <td>1</td>\n",
              "      <td>18654373</td>\n",
              "      <td>...</td>\n",
              "      <td>-2.274479</td>\n",
              "      <td>-1.870351</td>\n",
              "      <td>-2.218907</td>\n",
              "      <td>-2.259097</td>\n",
              "      <td>-2.274043</td>\n",
              "      <td>-2.273714</td>\n",
              "      <td>-2.274479</td>\n",
              "      <td>-2.22236</td>\n",
              "      <td>-2.274479</td>\n",
              "      <td>-2.272933</td>\n",
              "    </tr>\n",
              "    <tr>\n",
              "      <th>4</th>\n",
              "      <td>40.667806</td>\n",
              "      <td>-73.791989</td>\n",
              "      <td>1069.4145</td>\n",
              "      <td>0</td>\n",
              "      <td>0</td>\n",
              "      <td>324</td>\n",
              "      <td>2</td>\n",
              "      <td>0</td>\n",
              "      <td>1</td>\n",
              "      <td>18654373</td>\n",
              "      <td>...</td>\n",
              "      <td>-2.274479</td>\n",
              "      <td>-1.870351</td>\n",
              "      <td>-2.218907</td>\n",
              "      <td>-2.259097</td>\n",
              "      <td>-2.274043</td>\n",
              "      <td>-2.273714</td>\n",
              "      <td>-2.274479</td>\n",
              "      <td>-2.22236</td>\n",
              "      <td>-2.274479</td>\n",
              "      <td>-2.272933</td>\n",
              "    </tr>\n",
              "  </tbody>\n",
              "</table>\n",
              "<p>5 rows × 156 columns</p>\n",
              "</div>\n",
              "      <button class=\"colab-df-convert\" onclick=\"convertToInteractive('df-28c20819-16b2-43b6-abef-47f5dfb9fc09')\"\n",
              "              title=\"Convert this dataframe to an interactive table.\"\n",
              "              style=\"display:none;\">\n",
              "        \n",
              "  <svg xmlns=\"http://www.w3.org/2000/svg\" height=\"24px\"viewBox=\"0 0 24 24\"\n",
              "       width=\"24px\">\n",
              "    <path d=\"M0 0h24v24H0V0z\" fill=\"none\"/>\n",
              "    <path d=\"M18.56 5.44l.94 2.06.94-2.06 2.06-.94-2.06-.94-.94-2.06-.94 2.06-2.06.94zm-11 1L8.5 8.5l.94-2.06 2.06-.94-2.06-.94L8.5 2.5l-.94 2.06-2.06.94zm10 10l.94 2.06.94-2.06 2.06-.94-2.06-.94-.94-2.06-.94 2.06-2.06.94z\"/><path d=\"M17.41 7.96l-1.37-1.37c-.4-.4-.92-.59-1.43-.59-.52 0-1.04.2-1.43.59L10.3 9.45l-7.72 7.72c-.78.78-.78 2.05 0 2.83L4 21.41c.39.39.9.59 1.41.59.51 0 1.02-.2 1.41-.59l7.78-7.78 2.81-2.81c.8-.78.8-2.07 0-2.86zM5.41 20L4 18.59l7.72-7.72 1.47 1.35L5.41 20z\"/>\n",
              "  </svg>\n",
              "      </button>\n",
              "      \n",
              "  <style>\n",
              "    .colab-df-container {\n",
              "      display:flex;\n",
              "      flex-wrap:wrap;\n",
              "      gap: 12px;\n",
              "    }\n",
              "\n",
              "    .colab-df-convert {\n",
              "      background-color: #E8F0FE;\n",
              "      border: none;\n",
              "      border-radius: 50%;\n",
              "      cursor: pointer;\n",
              "      display: none;\n",
              "      fill: #1967D2;\n",
              "      height: 32px;\n",
              "      padding: 0 0 0 0;\n",
              "      width: 32px;\n",
              "    }\n",
              "\n",
              "    .colab-df-convert:hover {\n",
              "      background-color: #E2EBFA;\n",
              "      box-shadow: 0px 1px 2px rgba(60, 64, 67, 0.3), 0px 1px 3px 1px rgba(60, 64, 67, 0.15);\n",
              "      fill: #174EA6;\n",
              "    }\n",
              "\n",
              "    [theme=dark] .colab-df-convert {\n",
              "      background-color: #3B4455;\n",
              "      fill: #D2E3FC;\n",
              "    }\n",
              "\n",
              "    [theme=dark] .colab-df-convert:hover {\n",
              "      background-color: #434B5C;\n",
              "      box-shadow: 0px 1px 3px 1px rgba(0, 0, 0, 0.15);\n",
              "      filter: drop-shadow(0px 1px 2px rgba(0, 0, 0, 0.3));\n",
              "      fill: #FFFFFF;\n",
              "    }\n",
              "  </style>\n",
              "\n",
              "      <script>\n",
              "        const buttonEl =\n",
              "          document.querySelector('#df-28c20819-16b2-43b6-abef-47f5dfb9fc09 button.colab-df-convert');\n",
              "        buttonEl.style.display =\n",
              "          google.colab.kernel.accessAllowed ? 'block' : 'none';\n",
              "\n",
              "        async function convertToInteractive(key) {\n",
              "          const element = document.querySelector('#df-28c20819-16b2-43b6-abef-47f5dfb9fc09');\n",
              "          const dataTable =\n",
              "            await google.colab.kernel.invokeFunction('convertToInteractive',\n",
              "                                                     [key], {});\n",
              "          if (!dataTable) return;\n",
              "\n",
              "          const docLinkHtml = 'Like what you see? Visit the ' +\n",
              "            '<a target=\"_blank\" href=https://colab.research.google.com/notebooks/data_table.ipynb>data table notebook</a>'\n",
              "            + ' to learn more about interactive tables.';\n",
              "          element.innerHTML = '';\n",
              "          dataTable['output_type'] = 'display_data';\n",
              "          await google.colab.output.renderOutput(dataTable, element);\n",
              "          const docLink = document.createElement('div');\n",
              "          docLink.innerHTML = docLinkHtml;\n",
              "          element.appendChild(docLink);\n",
              "        }\n",
              "      </script>\n",
              "    </div>\n",
              "  </div>\n",
              "  "
            ]
          },
          "metadata": {},
          "execution_count": 9
        }
      ]
    },
    {
      "cell_type": "markdown",
      "source": [
        "#Normalizing all variables before PCA\n",
        "Some of the variables may have larger variation just because of big numbers e.g. income and some may have lower variation e.g. (0,1) type binary variable. Therefore, we need to normalize them to give each of them equal importance. "
      ],
      "metadata": {
        "id": "y9RZn77NOjmv"
      }
    },
    {
      "cell_type": "code",
      "source": [
        "from sklearn.decomposition import PCA\n",
        "\n",
        "\n",
        "pca = PCA(n_components=df.shape[1])\n",
        "\n",
        "# Fit PCA on data\n",
        "pca.fit(df)\n",
        "\n",
        "num_components = len(np.where(pca.explained_variance_ > 1)[0])\n",
        "\n",
        "# Select principal components\n",
        "principal_components = pca.components_[:num_components,:]\n",
        "\n",
        "\n",
        "# Transform the dataset\n",
        "df_transformed = pca.transform(df)\n",
        "\n",
        "print(num_components)"
      ],
      "metadata": {
        "id": "EyXbJKNBPNAT",
        "colab": {
          "base_uri": "https://localhost:8080/"
        },
        "outputId": "b8c2aece-6f61-4c1a-f2bc-1f44b21ce9de"
      },
      "execution_count": null,
      "outputs": [
        {
          "output_type": "stream",
          "name": "stdout",
          "text": [
            "9\n"
          ]
        }
      ]
    },
    {
      "cell_type": "markdown",
      "source": [
        "**Proportion of the variation explained by Principal Components**"
      ],
      "metadata": {
        "id": "-mUwFEUXaLEz"
      }
    },
    {
      "cell_type": "code",
      "source": [
        "cum_var_exp = np.cumsum(var_exp)\n",
        "\n",
        "# plot the graph\n",
        "plt.plot(range(1, len(cum_var_exp)+1), cum_var_exp, marker='o')\n",
        "plt.xlabel('Principal Component')\n",
        "plt.ylabel('Cumulative Variance Explained')\n",
        "plt.title('Cumulative Scree Plot')\n",
        "plt.show()"
      ],
      "metadata": {
        "colab": {
          "base_uri": "https://localhost:8080/",
          "height": 295
        },
        "id": "xMM9-MNHWCIc",
        "outputId": "51201ee0-1bb1-4ad9-8167-4558bef040cc"
      },
      "execution_count": null,
      "outputs": [
        {
          "output_type": "display_data",
          "data": {
            "text/plain": [
              "<Figure size 432x288 with 1 Axes>"
            ],
            "image/png": "[encoded data removed]"
          },
          "metadata": {
            "needs_background": "light"
          }
        }
      ]
    },
    {
      "cell_type": "code",
      "source": [
        "variance_ratio = pca.explained_variance_ratio_\n",
        "\n",
        "# Get the cumulative sum of variance ratios\n",
        "cumulative_var_ratio = np.cumsum(variance_ratio)\n",
        "\n",
        "# Plot the cumulative variance ratio as a function of the number of principal components\n",
        "plt.plot(cumulative_var_ratio)\n",
        "plt.xlabel('Number of Principal Components')\n",
        "plt.ylabel('Cumulative Variance Ratio')\n",
        "plt.show()"
      ],
      "metadata": {
        "colab": {
          "base_uri": "https://localhost:8080/",
          "height": 290
        },
        "id": "eZmlnIyccB34",
        "outputId": "f74048a3-e4b5-42cb-ea05-cd45667b3096"
      },
      "execution_count": null,
      "outputs": [
        {
          "output_type": "display_data",
          "data": {
            "text/plain": [
              "<Figure size 432x288 with 1 Axes>"
            ],
            "image/png": "[encoded data removed]"
          },
          "metadata": {
            "needs_background": "light"
          }
        }
      ]
    },
    {
      "cell_type": "markdown",
      "source": [
        "#Clustering on the basis of 4-5 Principal Components found above "
      ],
      "metadata": {
        "id": "xG4KwDtAgua2"
      }
    },
    {
      "cell_type": "code",
      "source": [
        "from scipy.cluster.hierarchy import dendrogram, linkage\n",
        "import matplotlib.pyplot as plt\n",
        "\n",
        "\n",
        "# Compute linkage matrix\n",
        "#Z = linkage(df_transformed, 'single')  #ward method is not running because it is computationally heavy \n",
        "\n",
        "# Plot dendrogram\n",
        "#plt.figure(figsize=(10, 5))\n",
        "#dendrogram(Z)\n",
        "#plt.show()"
      ],
      "metadata": {
        "id": "Aqy523fQZbyZ"
      },
      "execution_count": null,
      "outputs": []
    },
    {
      "cell_type": "code",
      "source": [
        "from sklearn.cluster import KMeans\n",
        "\n",
        "# Create a KMeans object\n",
        "kmeans = KMeans(n_clusters=5)\n",
        "\n",
        "# Fit the KMeans object to the PCA transformed data\n",
        "kmeans.fit(df_transformed)\n",
        "\n",
        "# Get the cluster labels\n",
        "cluster_labels = kmeans.labels_\n",
        "\n",
        "print(cluster_labels)\n",
        "\n",
        "#dataframe after getting cluster labels. \n",
        "data_clust=data.assign(cluster_number=cluster_labels)"
      ],
      "metadata": {
        "colab": {
          "base_uri": "https://localhost:8080/"
        },
        "id": "GbsE7lahgtfL",
        "outputId": "3174685d-474d-4e50-9561-472d8728dd67"
      },
      "execution_count": null,
      "outputs": [
        {
          "output_type": "stream",
          "name": "stderr",
          "text": [
            "/usr/local/lib/python3.9/dist-packages/sklearn/cluster/_kmeans.py:870: FutureWarning: The default value of `n_init` will change from 10 to 'auto' in 1.4. Set the value of `n_init` explicitly to suppress the warning\n",
            "  warnings.warn(\n"
          ]
        },
        {
          "output_type": "stream",
          "name": "stdout",
          "text": [
            "[2 2 2 ... 1 1 1]\n"
          ]
        }
      ]
    },
    {
      "cell_type": "markdown",
      "source": [
        "#We have prepared a clusterd dataframe: now we'll analyze it based on cluster ID"
      ],
      "metadata": {
        "id": "P0n92Jqxr-3o"
      }
    },
    {
      "cell_type": "code",
      "source": [
        "# Calculate the number of observations in each cluster\n",
        "cluster_counts = data_clust['cluster_number'].value_counts()\n",
        "print('\\nCluster Counts:')\n",
        "print(cluster_counts)\n",
        "\n",
        "# Plot a histogram of the cluster counts\n",
        "import matplotlib.pyplot as plt\n",
        "plt.bar(cluster_counts.index, cluster_counts.values)\n",
        "plt.xlabel('Cluster ID')\n",
        "plt.ylabel('Number of Observations')\n",
        "plt.show()"
      ],
      "metadata": {
        "colab": {
          "base_uri": "https://localhost:8080/",
          "height": 418
        },
        "id": "In376Tsmepay",
        "outputId": "89550c7b-c13c-41d3-d821-8c7f3dec83c6"
      },
      "execution_count": null,
      "outputs": [
        {
          "output_type": "stream",
          "name": "stdout",
          "text": [
            "\n",
            "Cluster Counts:\n",
            "0    45338\n",
            "1    33768\n",
            "2    10809\n",
            "4     9505\n",
            "3     7427\n",
            "Name: cluster_number, dtype: int64\n"
          ]
        },
        {
          "output_type": "display_data",
          "data": {
            "text/plain": [
              "<Figure size 432x288 with 1 Axes>"
            ],
            "image/png": "[encoded data removed]"
          },
          "metadata": {
            "needs_background": "light"
          }
        }
      ]
    },
    {
      "cell_type": "markdown",
      "source": [
        "String Data : Frequency Analysis"
      ],
      "metadata": {
        "id": "yctIjeY2oqwy"
      }
    },
    {
      "cell_type": "code",
      "source": [
        "freq = data_clust.groupby('cluster_number')['user_location_city'].apply(lambda x: x.value_counts().index[0]).reset_index()\n",
        "\n",
        "# print the result\n",
        "print(freq)"
      ],
      "metadata": {
        "colab": {
          "base_uri": "https://localhost:8080/"
        },
        "id": "LDRs_44kovcj",
        "outputId": "667f243b-966d-4ee8-886f-bf6fb083d5b5"
      },
      "execution_count": null,
      "outputs": [
        {
          "output_type": "stream",
          "name": "stdout",
          "text": [
            "   cluster_number user_location_city\n",
            "0               0        LOS ANGELES\n",
            "1               1              MIAMI\n",
            "2               2           NEW YORK\n",
            "3               3           NEW YORK\n",
            "4               4              MIAMI\n"
          ]
        }
      ]
    },
    {
      "cell_type": "code",
      "source": [],
      "metadata": {
        "id": "47tuzuTLrf1_"
      },
      "execution_count": null,
      "outputs": []
    },
    {
      "cell_type": "markdown",
      "source": [
        "Most frequent hotel popularity bands by group"
      ],
      "metadata": {
        "id": "rLIOm7o5rk_P"
      }
    },
    {
      "cell_type": "code",
      "source": [
        "freq = data_clust.groupby('cluster_number')['popularity_band'].apply(lambda x: x.value_counts().index[0]).reset_index()\n",
        "# print the result\n",
        "print(freq)"
      ],
      "metadata": {
        "colab": {
          "base_uri": "https://localhost:8080/"
        },
        "outputId": "b62dfbed-e249-4091-b9aa-65cc660c771f",
        "id": "bBxK8mOBrgIG"
      },
      "execution_count": null,
      "outputs": [
        {
          "output_type": "stream",
          "name": "stdout",
          "text": [
            "   cluster_number popularity_band\n",
            "0               0              VH\n",
            "1               1              VH\n",
            "2               2              VH\n",
            "3               3              VH\n",
            "4               4              VH\n"
          ]
        }
      ]
    },
    {
      "cell_type": "markdown",
      "source": [
        "Whether groups care about hotel brand"
      ],
      "metadata": {
        "id": "f9wSivg8yYLn"
      }
    },
    {
      "cell_type": "code",
      "source": [
        "freq = data_clust.groupby('cluster_number')['prop_is_branded'].apply(lambda x: x.value_counts().index[0]).reset_index()\n",
        "print(freq)"
      ],
      "metadata": {
        "colab": {
          "base_uri": "https://localhost:8080/"
        },
        "id": "RORp3GS_wixq",
        "outputId": "8abfd96d-d3be-4934-bfc9-9b7d0fb01925"
      },
      "execution_count": null,
      "outputs": [
        {
          "output_type": "stream",
          "name": "stdout",
          "text": [
            "   cluster_number  prop_is_branded\n",
            "0               0                1\n",
            "1               1                1\n",
            "2               2                1\n",
            "3               3                1\n",
            "4               4                1\n"
          ]
        }
      ]
    },
    {
      "cell_type": "markdown",
      "source": [
        "# **Looking at the characteristics of clusters **"
      ],
      "metadata": {
        "id": "Ow75VGQ3e9d6"
      }
    },
    {
      "cell_type": "code",
      "source": [
        "# Calculate the mean values of each feature for each cluster\n",
        "cluster_means = data_clust.groupby('cluster_number').mean()"
      ],
      "metadata": {
        "id": "ZJlsluzysHDO"
      },
      "execution_count": null,
      "outputs": []
    },
    {
      "cell_type": "markdown",
      "source": [
        "*which group booked more*"
      ],
      "metadata": {
        "id": "7seEUuuL9l-m"
      }
    },
    {
      "cell_type": "code",
      "source": [
        "#package pattern\n",
        "print(cluster_means['is_booking'])"
      ],
      "metadata": {
        "colab": {
          "base_uri": "https://localhost:8080/"
        },
        "id": "Jkf8fLkm9ods",
        "outputId": "58c55556-f544-4d35-ef3d-e8fecc5d6e3b"
      },
      "execution_count": null,
      "outputs": [
        {
          "output_type": "stream",
          "name": "stdout",
          "text": [
            "cluster_number\n",
            "0    0.069324\n",
            "1    0.111466\n",
            "2    0.082709\n",
            "3    0.097078\n",
            "4    0.117938\n",
            "Name: is_booking, dtype: float64\n"
          ]
        }
      ]
    },
    {
      "cell_type": "code",
      "source": [
        "#package pattern\n",
        "print(cluster_means['is_package'])"
      ],
      "metadata": {
        "colab": {
          "base_uri": "https://localhost:8080/"
        },
        "id": "UAbvaPu_ylYD",
        "outputId": "d0d32db8-f21f-4f95-f67f-909df3620e77"
      },
      "execution_count": null,
      "outputs": [
        {
          "output_type": "stream",
          "name": "stdout",
          "text": [
            "cluster_number\n",
            "0    0.272884\n",
            "1    0.081260\n",
            "2    0.271996\n",
            "3    0.103003\n",
            "4    0.154655\n",
            "Name: is_package, dtype: float64\n"
          ]
        }
      ]
    },
    {
      "cell_type": "markdown",
      "source": [],
      "metadata": {
        "id": "x27f8hZKykoc"
      }
    },
    {
      "cell_type": "code",
      "source": [
        "#pattern in mobile use\n",
        "print(cluster_means['is_mobile'])"
      ],
      "metadata": {
        "colab": {
          "base_uri": "https://localhost:8080/"
        },
        "id": "tE4_Dy5xjc41",
        "outputId": "4ff54cd9-f222-40a5-a64b-268bf43a9655"
      },
      "execution_count": null,
      "outputs": [
        {
          "output_type": "stream",
          "name": "stdout",
          "text": [
            "cluster_number\n",
            "0    0.211214\n",
            "1    0.224621\n",
            "2    0.264317\n",
            "3    0.252188\n",
            "4    0.254392\n",
            "Name: is_mobile, dtype: float64\n"
          ]
        }
      ]
    },
    {
      "cell_type": "code",
      "source": [
        "#pattern in location\n",
        "print(cluster_means[ 'user_location_longitude'])"
      ],
      "metadata": {
        "colab": {
          "base_uri": "https://localhost:8080/"
        },
        "id": "SB47eiM-M_co",
        "outputId": "edbd3352-695c-492e-adb9-d11c600698da"
      },
      "execution_count": null,
      "outputs": [
        {
          "output_type": "stream",
          "name": "stdout",
          "text": [
            "cluster_number\n",
            "0   -91.631988\n",
            "1   -90.082780\n",
            "2   -89.098667\n",
            "3   -96.654227\n",
            "4   -95.480668\n",
            "Name: user_location_longitude, dtype: float64\n"
          ]
        }
      ]
    },
    {
      "cell_type": "markdown",
      "source": [
        "Groupwise correlation between package and booking"
      ],
      "metadata": {
        "id": "urkxvPNkkxH0"
      }
    },
    {
      "cell_type": "code",
      "source": [
        "df1=data_clust[['is_booking',  'orig_destination_distance'  ,'cluster_number']]\n",
        "\n",
        "#groupwise correlation\n",
        "corr_df = df1.groupby('cluster_number').corr()\n",
        "\n",
        "# Print the resulting correlation DataFrame\n",
        "print(corr_df)"
      ],
      "metadata": {
        "colab": {
          "base_uri": "https://localhost:8080/"
        },
        "id": "AwDwy44HkLvw",
        "outputId": "e8d7774c-ad34-4cf8-894d-8962d1a987a2"
      },
      "execution_count": null,
      "outputs": [
        {
          "output_type": "stream",
          "name": "stdout",
          "text": [
            "                                          is_booking  \\\n",
            "cluster_number                                         \n",
            "0              is_booking                   1.000000   \n",
            "               orig_destination_distance   -0.039978   \n",
            "1              is_booking                   1.000000   \n",
            "               orig_destination_distance   -0.055170   \n",
            "2              is_booking                   1.000000   \n",
            "               orig_destination_distance   -0.084553   \n",
            "3              is_booking                   1.000000   \n",
            "               orig_destination_distance   -0.039681   \n",
            "4              is_booking                   1.000000   \n",
            "               orig_destination_distance   -0.115386   \n",
            "\n",
            "                                          orig_destination_distance  \n",
            "cluster_number                                                       \n",
            "0              is_booking                                 -0.039978  \n",
            "               orig_destination_distance                   1.000000  \n",
            "1              is_booking                                 -0.055170  \n",
            "               orig_destination_distance                   1.000000  \n",
            "2              is_booking                                 -0.084553  \n",
            "               orig_destination_distance                   1.000000  \n",
            "3              is_booking                                 -0.039681  \n",
            "               orig_destination_distance                   1.000000  \n",
            "4              is_booking                                 -0.115386  \n",
            "               orig_destination_distance                   1.000000  \n"
          ]
        }
      ]
    },
    {
      "cell_type": "code",
      "source": [
        "df2=data_clust[['is_booking',  'popular_naturalfeature_waterfalls', 'popular_attraction_waterparks', 'popular_activity_whalewatching', 'popular_naturalfeature_wildlife', 'popular_activity_windsurfing', 'popular_attraction_wineries', 'popular_attraction_zoo' ,'cluster_number']]\n",
        "\n",
        "#groupwise correlation\n",
        "corr_df = df2.groupby('cluster_number').corr()\n",
        "\n",
        "# Print the resulting correlation DataFrame\n",
        "print(corr_df)"
      ],
      "metadata": {
        "colab": {
          "base_uri": "https://localhost:8080/"
        },
        "id": "rCvqSdNky6v7",
        "outputId": "458f0396-7bc2-473a-8aeb-bd508a6285c0"
      },
      "execution_count": null,
      "outputs": [
        {
          "output_type": "stream",
          "name": "stdout",
          "text": [
            "                                                  is_booking  \\\n",
            "cluster_number                                                 \n",
            "0              is_booking                           1.000000   \n",
            "               popular_naturalfeature_waterfalls    0.020268   \n",
            "               popular_attraction_waterparks        0.018445   \n",
            "               popular_activity_whalewatching       0.006642   \n",
            "               popular_naturalfeature_wildlife      0.034373   \n",
            "               popular_activity_windsurfing         0.015107   \n",
            "               popular_attraction_wineries          0.026931   \n",
            "               popular_attraction_zoo               0.033046   \n",
            "1              is_booking                           1.000000   \n",
            "               popular_naturalfeature_waterfalls    0.009812   \n",
            "               popular_attraction_waterparks        0.002212   \n",
            "               popular_activity_whalewatching       0.033724   \n",
            "               popular_naturalfeature_wildlife      0.039579   \n",
            "               popular_activity_windsurfing         0.032781   \n",
            "               popular_attraction_wineries          0.046708   \n",
            "               popular_attraction_zoo               0.032513   \n",
            "2              is_booking                           1.000000   \n",
            "               popular_naturalfeature_waterfalls    0.021349   \n",
            "               popular_attraction_waterparks       -0.013449   \n",
            "               popular_activity_whalewatching       0.103630   \n",
            "               popular_naturalfeature_wildlife      0.085107   \n",
            "               popular_activity_windsurfing         0.078208   \n",
            "               popular_attraction_wineries          0.090873   \n",
            "               popular_attraction_zoo               0.106312   \n",
            "3              is_booking                           1.000000   \n",
            "               popular_naturalfeature_waterfalls    0.053595   \n",
            "               popular_attraction_waterparks        0.038374   \n",
            "               popular_activity_whalewatching       0.039305   \n",
            "               popular_naturalfeature_wildlife      0.053067   \n",
            "               popular_activity_windsurfing         0.039597   \n",
            "               popular_attraction_wineries          0.062033   \n",
            "               popular_attraction_zoo               0.056733   \n",
            "4              is_booking                           1.000000   \n",
            "               popular_naturalfeature_waterfalls    0.049087   \n",
            "               popular_attraction_waterparks        0.034889   \n",
            "               popular_activity_whalewatching       0.082978   \n",
            "               popular_naturalfeature_wildlife      0.086712   \n",
            "               popular_activity_windsurfing         0.081769   \n",
            "               popular_attraction_wineries          0.079585   \n",
            "               popular_attraction_zoo               0.046950   \n",
            "\n",
            "                                                  popular_naturalfeature_waterfalls  \\\n",
            "cluster_number                                                                        \n",
            "0              is_booking                                                  0.020268   \n",
            "               popular_naturalfeature_waterfalls                           1.000000   \n",
            "               popular_attraction_waterparks                               0.529564   \n",
            "               popular_activity_whalewatching                              0.617583   \n",
            "               popular_naturalfeature_wildlife                             0.520370   \n",
            "               popular_activity_windsurfing                                0.589803   \n",
            "               popular_attraction_wineries                                 0.415185   \n",
            "               popular_attraction_zoo                                      0.384357   \n",
            "1              is_booking                                                  0.009812   \n",
            "               popular_naturalfeature_waterfalls                           1.000000   \n",
            "               popular_attraction_waterparks                               0.234235   \n",
            "               popular_activity_whalewatching                             -0.027445   \n",
            "               popular_naturalfeature_wildlife                             0.002036   \n",
            "               popular_activity_windsurfing                               -0.022675   \n",
            "               popular_attraction_wineries                                 0.149735   \n",
            "               popular_attraction_zoo                                     -0.064118   \n",
            "2              is_booking                                                  0.021349   \n",
            "               popular_naturalfeature_waterfalls                           1.000000   \n",
            "               popular_attraction_waterparks                               0.296670   \n",
            "               popular_activity_whalewatching                              0.053959   \n",
            "               popular_naturalfeature_wildlife                             0.121652   \n",
            "               popular_activity_windsurfing                               -0.101706   \n",
            "               popular_attraction_wineries                                 0.350509   \n",
            "               popular_attraction_zoo                                      0.103810   \n",
            "3              is_booking                                                  0.053595   \n",
            "               popular_naturalfeature_waterfalls                           1.000000   \n",
            "               popular_attraction_waterparks                               0.428170   \n",
            "               popular_activity_whalewatching                              0.437399   \n",
            "               popular_naturalfeature_wildlife                             0.530827   \n",
            "               popular_activity_windsurfing                                0.681872   \n",
            "               popular_attraction_wineries                                 0.650966   \n",
            "               popular_attraction_zoo                                      0.270306   \n",
            "4              is_booking                                                  0.049087   \n",
            "               popular_naturalfeature_waterfalls                           1.000000   \n",
            "               popular_attraction_waterparks                               0.040405   \n",
            "               popular_activity_whalewatching                              0.287163   \n",
            "               popular_naturalfeature_wildlife                             0.164442   \n",
            "               popular_activity_windsurfing                                0.302878   \n",
            "               popular_attraction_wineries                                 0.105173   \n",
            "               popular_attraction_zoo                                      0.454146   \n",
            "\n",
            "                                                  popular_attraction_waterparks  \\\n",
            "cluster_number                                                                    \n",
            "0              is_booking                                              0.018445   \n",
            "               popular_naturalfeature_waterfalls                       0.529564   \n",
            "               popular_attraction_waterparks                           1.000000   \n",
            "               popular_activity_whalewatching                          0.446986   \n",
            "               popular_naturalfeature_wildlife                         0.664833   \n",
            "               popular_activity_windsurfing                            0.719971   \n",
            "               popular_attraction_wineries                             0.530117   \n",
            "               popular_attraction_zoo                                  0.469014   \n",
            "1              is_booking                                              0.002212   \n",
            "               popular_naturalfeature_waterfalls                       0.234235   \n",
            "               popular_attraction_waterparks                           1.000000   \n",
            "               popular_activity_whalewatching                          0.126539   \n",
            "               popular_naturalfeature_wildlife                         0.166330   \n",
            "               popular_activity_windsurfing                            0.267901   \n",
            "               popular_attraction_wineries                             0.202180   \n",
            "               popular_attraction_zoo                                  0.106890   \n",
            "2              is_booking                                             -0.013449   \n",
            "               popular_naturalfeature_waterfalls                       0.296670   \n",
            "               popular_attraction_waterparks                           1.000000   \n",
            "               popular_activity_whalewatching                         -0.021408   \n",
            "               popular_naturalfeature_wildlife                         0.054265   \n",
            "               popular_activity_windsurfing                           -0.032738   \n",
            "               popular_attraction_wineries                             0.077182   \n",
            "               popular_attraction_zoo                                  0.109031   \n",
            "3              is_booking                                              0.038374   \n",
            "               popular_naturalfeature_waterfalls                       0.428170   \n",
            "               popular_attraction_waterparks                           1.000000   \n",
            "               popular_activity_whalewatching                          0.281912   \n",
            "               popular_naturalfeature_wildlife                         0.600296   \n",
            "               popular_activity_windsurfing                            0.589852   \n",
            "               popular_attraction_wineries                             0.658272   \n",
            "               popular_attraction_zoo                                  0.389990   \n",
            "4              is_booking                                              0.034889   \n",
            "               popular_naturalfeature_waterfalls                       0.040405   \n",
            "               popular_attraction_waterparks                           1.000000   \n",
            "               popular_activity_whalewatching                          0.205753   \n",
            "               popular_naturalfeature_wildlife                         0.399634   \n",
            "               popular_activity_windsurfing                            0.329314   \n",
            "               popular_attraction_wineries                             0.320264   \n",
            "               popular_attraction_zoo                                  0.228949   \n",
            "\n",
            "                                                  popular_activity_whalewatching  \\\n",
            "cluster_number                                                                     \n",
            "0              is_booking                                               0.006642   \n",
            "               popular_naturalfeature_waterfalls                        0.617583   \n",
            "               popular_attraction_waterparks                            0.446986   \n",
            "               popular_activity_whalewatching                           1.000000   \n",
            "               popular_naturalfeature_wildlife                          0.657921   \n",
            "               popular_activity_windsurfing                             0.739635   \n",
            "               popular_attraction_wineries                              0.473172   \n",
            "               popular_attraction_zoo                                   0.465323   \n",
            "1              is_booking                                               0.033724   \n",
            "               popular_naturalfeature_waterfalls                       -0.027445   \n",
            "               popular_attraction_waterparks                            0.126539   \n",
            "               popular_activity_whalewatching                           1.000000   \n",
            "               popular_naturalfeature_wildlife                          0.392119   \n",
            "               popular_activity_windsurfing                             0.616697   \n",
            "               popular_attraction_wineries                              0.346770   \n",
            "               popular_attraction_zoo                                   0.325384   \n",
            "2              is_booking                                               0.103630   \n",
            "               popular_naturalfeature_waterfalls                        0.053959   \n",
            "               popular_attraction_waterparks                           -0.021408   \n",
            "               popular_activity_whalewatching                           1.000000   \n",
            "               popular_naturalfeature_wildlife                          0.505378   \n",
            "               popular_activity_windsurfing                             0.582637   \n",
            "               popular_attraction_wineries                              0.618441   \n",
            "               popular_attraction_zoo                                   0.598261   \n",
            "3              is_booking                                               0.039305   \n",
            "               popular_naturalfeature_waterfalls                        0.437399   \n",
            "               popular_attraction_waterparks                            0.281912   \n",
            "               popular_activity_whalewatching                           1.000000   \n",
            "               popular_naturalfeature_wildlife                          0.417028   \n",
            "               popular_activity_windsurfing                             0.596538   \n",
            "               popular_attraction_wineries                              0.570161   \n",
            "               popular_attraction_zoo                                   0.491175   \n",
            "4              is_booking                                               0.082978   \n",
            "               popular_naturalfeature_waterfalls                        0.287163   \n",
            "               popular_attraction_waterparks                            0.205753   \n",
            "               popular_activity_whalewatching                           1.000000   \n",
            "               popular_naturalfeature_wildlife                          0.271880   \n",
            "               popular_activity_windsurfing                             0.442506   \n",
            "               popular_attraction_wineries                              0.290088   \n",
            "               popular_attraction_zoo                                   0.242247   \n",
            "\n",
            "                                                  popular_naturalfeature_wildlife  \\\n",
            "cluster_number                                                                      \n",
            "0              is_booking                                                0.034373   \n",
            "               popular_naturalfeature_waterfalls                         0.520370   \n",
            "               popular_attraction_waterparks                             0.664833   \n",
            "               popular_activity_whalewatching                            0.657921   \n",
            "               popular_naturalfeature_wildlife                           1.000000   \n",
            "               popular_activity_windsurfing                              0.777815   \n",
            "               popular_attraction_wineries                               0.603250   \n",
            "               popular_attraction_zoo                                    0.630170   \n",
            "1              is_booking                                                0.039579   \n",
            "               popular_naturalfeature_waterfalls                         0.002036   \n",
            "               popular_attraction_waterparks                             0.166330   \n",
            "               popular_activity_whalewatching                            0.392119   \n",
            "               popular_naturalfeature_wildlife                           1.000000   \n",
            "               popular_activity_windsurfing                              0.465418   \n",
            "               popular_attraction_wineries                               0.295220   \n",
            "               popular_attraction_zoo                                    0.343616   \n",
            "2              is_booking                                                0.085107   \n",
            "               popular_naturalfeature_waterfalls                         0.121652   \n",
            "               popular_attraction_waterparks                             0.054265   \n",
            "               popular_activity_whalewatching                            0.505378   \n",
            "               popular_naturalfeature_wildlife                           1.000000   \n",
            "               popular_activity_windsurfing                              0.462417   \n",
            "               popular_attraction_wineries                               0.373019   \n",
            "               popular_attraction_zoo                                    0.591338   \n",
            "3              is_booking                                                0.053067   \n",
            "               popular_naturalfeature_waterfalls                         0.530827   \n",
            "               popular_attraction_waterparks                             0.600296   \n",
            "               popular_activity_whalewatching                            0.417028   \n",
            "               popular_naturalfeature_wildlife                           1.000000   \n",
            "               popular_activity_windsurfing                              0.711842   \n",
            "               popular_attraction_wineries                               0.725732   \n",
            "               popular_attraction_zoo                                    0.339118   \n",
            "4              is_booking                                                0.086712   \n",
            "               popular_naturalfeature_waterfalls                         0.164442   \n",
            "               popular_attraction_waterparks                             0.399634   \n",
            "               popular_activity_whalewatching                            0.271880   \n",
            "               popular_naturalfeature_wildlife                           1.000000   \n",
            "               popular_activity_windsurfing                              0.387880   \n",
            "               popular_attraction_wineries                               0.358477   \n",
            "               popular_attraction_zoo                                    0.191618   \n",
            "\n",
            "                                                  popular_activity_windsurfing  \\\n",
            "cluster_number                                                                   \n",
            "0              is_booking                                             0.015107   \n",
            "               popular_naturalfeature_waterfalls                      0.589803   \n",
            "               popular_attraction_waterparks                          0.719971   \n",
            "               popular_activity_whalewatching                         0.739635   \n",
            "               popular_naturalfeature_wildlife                        0.777815   \n",
            "               popular_activity_windsurfing                           1.000000   \n",
            "               popular_attraction_wineries                            0.658305   \n",
            "               popular_attraction_zoo                                 0.602535   \n",
            "1              is_booking                                             0.032781   \n",
            "               popular_naturalfeature_waterfalls                     -0.022675   \n",
            "               popular_attraction_waterparks                          0.267901   \n",
            "               popular_activity_whalewatching                         0.616697   \n",
            "               popular_naturalfeature_wildlife                        0.465418   \n",
            "               popular_activity_windsurfing                           1.000000   \n",
            "               popular_attraction_wineries                            0.467957   \n",
            "               popular_attraction_zoo                                 0.249974   \n",
            "2              is_booking                                             0.078208   \n",
            "               popular_naturalfeature_waterfalls                     -0.101706   \n",
            "               popular_attraction_waterparks                         -0.032738   \n",
            "               popular_activity_whalewatching                         0.582637   \n",
            "               popular_naturalfeature_wildlife                        0.462417   \n",
            "               popular_activity_windsurfing                           1.000000   \n",
            "               popular_attraction_wineries                            0.480893   \n",
            "               popular_attraction_zoo                                 0.522506   \n",
            "3              is_booking                                             0.039597   \n",
            "               popular_naturalfeature_waterfalls                      0.681872   \n",
            "               popular_attraction_waterparks                          0.589852   \n",
            "               popular_activity_whalewatching                         0.596538   \n",
            "               popular_naturalfeature_wildlife                        0.711842   \n",
            "               popular_activity_windsurfing                           1.000000   \n",
            "               popular_attraction_wineries                            0.821739   \n",
            "               popular_attraction_zoo                                 0.422361   \n",
            "4              is_booking                                             0.081769   \n",
            "               popular_naturalfeature_waterfalls                      0.302878   \n",
            "               popular_attraction_waterparks                          0.329314   \n",
            "               popular_activity_whalewatching                         0.442506   \n",
            "               popular_naturalfeature_wildlife                        0.387880   \n",
            "               popular_activity_windsurfing                           1.000000   \n",
            "               popular_attraction_wineries                            0.517856   \n",
            "               popular_attraction_zoo                                 0.265255   \n",
            "\n",
            "                                                  popular_attraction_wineries  \\\n",
            "cluster_number                                                                  \n",
            "0              is_booking                                            0.026931   \n",
            "               popular_naturalfeature_waterfalls                     0.415185   \n",
            "               popular_attraction_waterparks                         0.530117   \n",
            "               popular_activity_whalewatching                        0.473172   \n",
            "               popular_naturalfeature_wildlife                       0.603250   \n",
            "               popular_activity_windsurfing                          0.658305   \n",
            "               popular_attraction_wineries                           1.000000   \n",
            "               popular_attraction_zoo                                0.526032   \n",
            "1              is_booking                                            0.046708   \n",
            "               popular_naturalfeature_waterfalls                     0.149735   \n",
            "               popular_attraction_waterparks                         0.202180   \n",
            "               popular_activity_whalewatching                        0.346770   \n",
            "               popular_naturalfeature_wildlife                       0.295220   \n",
            "               popular_activity_windsurfing                          0.467957   \n",
            "               popular_attraction_wineries                           1.000000   \n",
            "               popular_attraction_zoo                                0.145870   \n",
            "2              is_booking                                            0.090873   \n",
            "               popular_naturalfeature_waterfalls                     0.350509   \n",
            "               popular_attraction_waterparks                         0.077182   \n",
            "               popular_activity_whalewatching                        0.618441   \n",
            "               popular_naturalfeature_wildlife                       0.373019   \n",
            "               popular_activity_windsurfing                          0.480893   \n",
            "               popular_attraction_wineries                           1.000000   \n",
            "               popular_attraction_zoo                                0.444232   \n",
            "3              is_booking                                            0.062033   \n",
            "               popular_naturalfeature_waterfalls                     0.650966   \n",
            "               popular_attraction_waterparks                         0.658272   \n",
            "               popular_activity_whalewatching                        0.570161   \n",
            "               popular_naturalfeature_wildlife                       0.725732   \n",
            "               popular_activity_windsurfing                          0.821739   \n",
            "               popular_attraction_wineries                           1.000000   \n",
            "               popular_attraction_zoo                                0.497888   \n",
            "4              is_booking                                            0.079585   \n",
            "               popular_naturalfeature_waterfalls                     0.105173   \n",
            "               popular_attraction_waterparks                         0.320264   \n",
            "               popular_activity_whalewatching                        0.290088   \n",
            "               popular_naturalfeature_wildlife                       0.358477   \n",
            "               popular_activity_windsurfing                          0.517856   \n",
            "               popular_attraction_wineries                           1.000000   \n",
            "               popular_attraction_zoo                                0.083927   \n",
            "\n",
            "                                                  popular_attraction_zoo  \n",
            "cluster_number                                                            \n",
            "0              is_booking                                       0.033046  \n",
            "               popular_naturalfeature_waterfalls                0.384357  \n",
            "               popular_attraction_waterparks                    0.469014  \n",
            "               popular_activity_whalewatching                   0.465323  \n",
            "               popular_naturalfeature_wildlife                  0.630170  \n",
            "               popular_activity_windsurfing                     0.602535  \n",
            "               popular_attraction_wineries                      0.526032  \n",
            "               popular_attraction_zoo                           1.000000  \n",
            "1              is_booking                                       0.032513  \n",
            "               popular_naturalfeature_waterfalls               -0.064118  \n",
            "               popular_attraction_waterparks                    0.106890  \n",
            "               popular_activity_whalewatching                   0.325384  \n",
            "               popular_naturalfeature_wildlife                  0.343616  \n",
            "               popular_activity_windsurfing                     0.249974  \n",
            "               popular_attraction_wineries                      0.145870  \n",
            "               popular_attraction_zoo                           1.000000  \n",
            "2              is_booking                                       0.106312  \n",
            "               popular_naturalfeature_waterfalls                0.103810  \n",
            "               popular_attraction_waterparks                    0.109031  \n",
            "               popular_activity_whalewatching                   0.598261  \n",
            "               popular_naturalfeature_wildlife                  0.591338  \n",
            "               popular_activity_windsurfing                     0.522506  \n",
            "               popular_attraction_wineries                      0.444232  \n",
            "               popular_attraction_zoo                           1.000000  \n",
            "3              is_booking                                       0.056733  \n",
            "               popular_naturalfeature_waterfalls                0.270306  \n",
            "               popular_attraction_waterparks                    0.389990  \n",
            "               popular_activity_whalewatching                   0.491175  \n",
            "               popular_naturalfeature_wildlife                  0.339118  \n",
            "               popular_activity_windsurfing                     0.422361  \n",
            "               popular_attraction_wineries                      0.497888  \n",
            "               popular_attraction_zoo                           1.000000  \n",
            "4              is_booking                                       0.046950  \n",
            "               popular_naturalfeature_waterfalls                0.454146  \n",
            "               popular_attraction_waterparks                    0.228949  \n",
            "               popular_activity_whalewatching                   0.242247  \n",
            "               popular_naturalfeature_wildlife                  0.191618  \n",
            "               popular_activity_windsurfing                     0.265255  \n",
            "               popular_attraction_wineries                      0.083927  \n",
            "               popular_attraction_zoo                           1.000000  \n"
          ]
        }
      ]
    },
    {
      "cell_type": "markdown",
      "source": [
        "popular_weather_sunnyweather  popular_activity_sunrise popular_activity_snowtubing  popular_activity_snowboarding \n",
        "popular_social_nightclubs  popular_lifestyle_nightlife popular_naturalfeature_hotsprings  popular_activity_hunting\n",
        "\n"
      ],
      "metadata": {
        "id": "3-Nc6Oiu2TvF"
      }
    },
    {
      "cell_type": "code",
      "source": [
        "df_party=data_clust[['is_booking',  'popular_lifestyle_nightlife', 'popular_activity_dancing', 'popular_social_nightclubs', 'popular_entertainment_casino','cluster_number']]\n",
        "#groupwise correlation\n",
        "corr_df = df_party.groupby('cluster_number').corr()\n",
        "print(corr_df)"
      ],
      "metadata": {
        "colab": {
          "base_uri": "https://localhost:8080/"
        },
        "id": "cXehhwBTy30L",
        "outputId": "f0fcdc18-4ce0-45c1-e802-ac33ca54576f"
      },
      "execution_count": null,
      "outputs": [
        {
          "output_type": "stream",
          "name": "stdout",
          "text": [
            "                                             is_booking  \\\n",
            "cluster_number                                            \n",
            "0              is_booking                      1.000000   \n",
            "               popular_lifestyle_nightlife     0.009802   \n",
            "               popular_activity_dancing        0.003098   \n",
            "               popular_social_nightclubs      -0.010340   \n",
            "               popular_entertainment_casino    0.004533   \n",
            "1              is_booking                      1.000000   \n",
            "               popular_lifestyle_nightlife     0.011734   \n",
            "               popular_activity_dancing        0.003528   \n",
            "               popular_social_nightclubs       0.004165   \n",
            "               popular_entertainment_casino    0.029406   \n",
            "2              is_booking                      1.000000   \n",
            "               popular_lifestyle_nightlife     0.031347   \n",
            "               popular_activity_dancing       -0.042327   \n",
            "               popular_social_nightclubs      -0.049760   \n",
            "               popular_entertainment_casino    0.003831   \n",
            "3              is_booking                      1.000000   \n",
            "               popular_lifestyle_nightlife    -0.016684   \n",
            "               popular_activity_dancing       -0.057047   \n",
            "               popular_social_nightclubs      -0.000943   \n",
            "               popular_entertainment_casino   -0.022212   \n",
            "4              is_booking                      1.000000   \n",
            "               popular_lifestyle_nightlife     0.067415   \n",
            "               popular_activity_dancing       -0.001295   \n",
            "               popular_social_nightclubs      -0.026129   \n",
            "               popular_entertainment_casino    0.067540   \n",
            "\n",
            "                                             popular_lifestyle_nightlife  \\\n",
            "cluster_number                                                             \n",
            "0              is_booking                                       0.009802   \n",
            "               popular_lifestyle_nightlife                      1.000000   \n",
            "               popular_activity_dancing                         0.007946   \n",
            "               popular_social_nightclubs                       -0.019284   \n",
            "               popular_entertainment_casino                     0.257672   \n",
            "1              is_booking                                       0.011734   \n",
            "               popular_lifestyle_nightlife                      1.000000   \n",
            "               popular_activity_dancing                         0.337212   \n",
            "               popular_social_nightclubs                        0.268557   \n",
            "               popular_entertainment_casino                     0.020200   \n",
            "2              is_booking                                       0.031347   \n",
            "               popular_lifestyle_nightlife                      1.000000   \n",
            "               popular_activity_dancing                         0.078567   \n",
            "               popular_social_nightclubs                        0.153404   \n",
            "               popular_entertainment_casino                     0.027847   \n",
            "3              is_booking                                      -0.016684   \n",
            "               popular_lifestyle_nightlife                      1.000000   \n",
            "               popular_activity_dancing                         0.056250   \n",
            "               popular_social_nightclubs                        0.543343   \n",
            "               popular_entertainment_casino                     0.395449   \n",
            "4              is_booking                                       0.067415   \n",
            "               popular_lifestyle_nightlife                      1.000000   \n",
            "               popular_activity_dancing                         0.013260   \n",
            "               popular_social_nightclubs                        0.373631   \n",
            "               popular_entertainment_casino                     0.369712   \n",
            "\n",
            "                                             popular_activity_dancing  \\\n",
            "cluster_number                                                          \n",
            "0              is_booking                                    0.003098   \n",
            "               popular_lifestyle_nightlife                   0.007946   \n",
            "               popular_activity_dancing                      1.000000   \n",
            "               popular_social_nightclubs                     0.020226   \n",
            "               popular_entertainment_casino                 -0.068373   \n",
            "1              is_booking                                    0.003528   \n",
            "               popular_lifestyle_nightlife                   0.337212   \n",
            "               popular_activity_dancing                      1.000000   \n",
            "               popular_social_nightclubs                     0.121462   \n",
            "               popular_entertainment_casino                 -0.088769   \n",
            "2              is_booking                                   -0.042327   \n",
            "               popular_lifestyle_nightlife                   0.078567   \n",
            "               popular_activity_dancing                      1.000000   \n",
            "               popular_social_nightclubs                     0.311542   \n",
            "               popular_entertainment_casino                 -0.149216   \n",
            "3              is_booking                                   -0.057047   \n",
            "               popular_lifestyle_nightlife                   0.056250   \n",
            "               popular_activity_dancing                      1.000000   \n",
            "               popular_social_nightclubs                     0.053525   \n",
            "               popular_entertainment_casino                 -0.044050   \n",
            "4              is_booking                                   -0.001295   \n",
            "               popular_lifestyle_nightlife                   0.013260   \n",
            "               popular_activity_dancing                      1.000000   \n",
            "               popular_social_nightclubs                    -0.080850   \n",
            "               popular_entertainment_casino                 -0.072772   \n",
            "\n",
            "                                             popular_social_nightclubs  \\\n",
            "cluster_number                                                           \n",
            "0              is_booking                                    -0.010340   \n",
            "               popular_lifestyle_nightlife                   -0.019284   \n",
            "               popular_activity_dancing                       0.020226   \n",
            "               popular_social_nightclubs                      1.000000   \n",
            "               popular_entertainment_casino                   0.441949   \n",
            "1              is_booking                                     0.004165   \n",
            "               popular_lifestyle_nightlife                    0.268557   \n",
            "               popular_activity_dancing                       0.121462   \n",
            "               popular_social_nightclubs                      1.000000   \n",
            "               popular_entertainment_casino                  -0.021266   \n",
            "2              is_booking                                    -0.049760   \n",
            "               popular_lifestyle_nightlife                    0.153404   \n",
            "               popular_activity_dancing                       0.311542   \n",
            "               popular_social_nightclubs                      1.000000   \n",
            "               popular_entertainment_casino                   0.029809   \n",
            "3              is_booking                                    -0.000943   \n",
            "               popular_lifestyle_nightlife                    0.543343   \n",
            "               popular_activity_dancing                       0.053525   \n",
            "               popular_social_nightclubs                      1.000000   \n",
            "               popular_entertainment_casino                   0.539479   \n",
            "4              is_booking                                    -0.026129   \n",
            "               popular_lifestyle_nightlife                    0.373631   \n",
            "               popular_activity_dancing                      -0.080850   \n",
            "               popular_social_nightclubs                      1.000000   \n",
            "               popular_entertainment_casino                   0.053235   \n",
            "\n",
            "                                             popular_entertainment_casino  \n",
            "cluster_number                                                             \n",
            "0              is_booking                                        0.004533  \n",
            "               popular_lifestyle_nightlife                       0.257672  \n",
            "               popular_activity_dancing                         -0.068373  \n",
            "               popular_social_nightclubs                         0.441949  \n",
            "               popular_entertainment_casino                      1.000000  \n",
            "1              is_booking                                        0.029406  \n",
            "               popular_lifestyle_nightlife                       0.020200  \n",
            "               popular_activity_dancing                         -0.088769  \n",
            "               popular_social_nightclubs                        -0.021266  \n",
            "               popular_entertainment_casino                      1.000000  \n",
            "2              is_booking                                        0.003831  \n",
            "               popular_lifestyle_nightlife                       0.027847  \n",
            "               popular_activity_dancing                         -0.149216  \n",
            "               popular_social_nightclubs                         0.029809  \n",
            "               popular_entertainment_casino                      1.000000  \n",
            "3              is_booking                                       -0.022212  \n",
            "               popular_lifestyle_nightlife                       0.395449  \n",
            "               popular_activity_dancing                         -0.044050  \n",
            "               popular_social_nightclubs                         0.539479  \n",
            "               popular_entertainment_casino                      1.000000  \n",
            "4              is_booking                                        0.067540  \n",
            "               popular_lifestyle_nightlife                       0.369712  \n",
            "               popular_activity_dancing                         -0.072772  \n",
            "               popular_social_nightclubs                         0.053235  \n",
            "               popular_entertainment_casino                      1.000000  \n"
          ]
        }
      ]
    },
    {
      "cell_type": "code",
      "source": [
        "df_sport=data_clust[['is_booking',  'popular_activity_basketball', 'popular_activity_baseball','cluster_number']]\n",
        "#groupwise correlation\n",
        "corr_df = df_sport.groupby('cluster_number').corr()\n",
        "print(corr_df)\n"
      ],
      "metadata": {
        "colab": {
          "base_uri": "https://localhost:8080/"
        },
        "id": "z-0pPvB83sht",
        "outputId": "8be88338-201b-4569-e2fd-26c9308c4013"
      },
      "execution_count": null,
      "outputs": [
        {
          "output_type": "stream",
          "name": "stdout",
          "text": [
            "                                            is_booking  \\\n",
            "cluster_number                                           \n",
            "0              is_booking                     1.000000   \n",
            "               popular_activity_basketball    0.039264   \n",
            "               popular_activity_baseball      0.049626   \n",
            "1              is_booking                     1.000000   \n",
            "               popular_activity_basketball    0.071232   \n",
            "               popular_activity_baseball      0.068441   \n",
            "2              is_booking                     1.000000   \n",
            "               popular_activity_basketball    0.134241   \n",
            "               popular_activity_baseball      0.146793   \n",
            "3              is_booking                     1.000000   \n",
            "               popular_activity_basketball    0.048982   \n",
            "               popular_activity_baseball      0.014594   \n",
            "4              is_booking                     1.000000   \n",
            "               popular_activity_basketball    0.116943   \n",
            "               popular_activity_baseball      0.083474   \n",
            "\n",
            "                                            popular_activity_basketball  \\\n",
            "cluster_number                                                            \n",
            "0              is_booking                                      0.039264   \n",
            "               popular_activity_basketball                     1.000000   \n",
            "               popular_activity_baseball                       0.809582   \n",
            "1              is_booking                                      0.071232   \n",
            "               popular_activity_basketball                     1.000000   \n",
            "               popular_activity_baseball                       0.560457   \n",
            "2              is_booking                                      0.134241   \n",
            "               popular_activity_basketball                     1.000000   \n",
            "               popular_activity_baseball                       0.791577   \n",
            "3              is_booking                                      0.048982   \n",
            "               popular_activity_basketball                     1.000000   \n",
            "               popular_activity_baseball                       0.378665   \n",
            "4              is_booking                                      0.116943   \n",
            "               popular_activity_basketball                     1.000000   \n",
            "               popular_activity_baseball                       0.590671   \n",
            "\n",
            "                                            popular_activity_baseball  \n",
            "cluster_number                                                         \n",
            "0              is_booking                                    0.049626  \n",
            "               popular_activity_basketball                   0.809582  \n",
            "               popular_activity_baseball                     1.000000  \n",
            "1              is_booking                                    0.068441  \n",
            "               popular_activity_basketball                   0.560457  \n",
            "               popular_activity_baseball                     1.000000  \n",
            "2              is_booking                                    0.146793  \n",
            "               popular_activity_basketball                   0.791577  \n",
            "               popular_activity_baseball                     1.000000  \n",
            "3              is_booking                                    0.014594  \n",
            "               popular_activity_basketball                   0.378665  \n",
            "               popular_activity_baseball                     1.000000  \n",
            "4              is_booking                                    0.083474  \n",
            "               popular_activity_basketball                   0.590671  \n",
            "               popular_activity_baseball                     1.000000  \n"
          ]
        }
      ]
    },
    {
      "cell_type": "code",
      "source": [
        "df_food=data_clust[['is_booking',  'popular_food_finedining', 'popular_food_food','popular_food_coffee','cluster_number']]\n",
        "#groupwise correlation\n",
        "corr_df = df_food.groupby('cluster_number').corr()\n",
        "print(corr_df)\n"
      ],
      "metadata": {
        "colab": {
          "base_uri": "https://localhost:8080/"
        },
        "id": "Aq97DEcD3-6p",
        "outputId": "3a5a9544-dfbe-4172-837c-99d38d903347"
      },
      "execution_count": null,
      "outputs": [
        {
          "output_type": "stream",
          "name": "stdout",
          "text": [
            "                                        is_booking  popular_food_finedining  \\\n",
            "cluster_number                                                                \n",
            "0              is_booking                 1.000000                 0.023040   \n",
            "               popular_food_finedining    0.023040                 1.000000   \n",
            "               popular_food_food         -0.039549                -0.664380   \n",
            "               popular_food_coffee        0.012175                -0.667823   \n",
            "1              is_booking                 1.000000                 0.055948   \n",
            "               popular_food_finedining    0.055948                 1.000000   \n",
            "               popular_food_food         -0.033876                -0.454646   \n",
            "               popular_food_coffee        0.049047                -0.328566   \n",
            "2              is_booking                 1.000000                 0.092210   \n",
            "               popular_food_finedining    0.092210                 1.000000   \n",
            "               popular_food_food         -0.106447                -0.479590   \n",
            "               popular_food_coffee        0.127835                 0.166783   \n",
            "3              is_booking                 1.000000                 0.069844   \n",
            "               popular_food_finedining    0.069844                 1.000000   \n",
            "               popular_food_food         -0.013675                -0.484386   \n",
            "               popular_food_coffee        0.018004                -0.436244   \n",
            "4              is_booking                 1.000000                 0.096108   \n",
            "               popular_food_finedining    0.096108                 1.000000   \n",
            "               popular_food_food         -0.083160                -0.523656   \n",
            "               popular_food_coffee        0.059013                -0.247855   \n",
            "\n",
            "                                        popular_food_food  popular_food_coffee  \n",
            "cluster_number                                                                  \n",
            "0              is_booking                       -0.039549             0.012175  \n",
            "               popular_food_finedining          -0.664380            -0.667823  \n",
            "               popular_food_food                 1.000000             0.320915  \n",
            "               popular_food_coffee               0.320915             1.000000  \n",
            "1              is_booking                       -0.033876             0.049047  \n",
            "               popular_food_finedining          -0.454646            -0.328566  \n",
            "               popular_food_food                 1.000000             0.249530  \n",
            "               popular_food_coffee               0.249530             1.000000  \n",
            "2              is_booking                       -0.106447             0.127835  \n",
            "               popular_food_finedining          -0.479590             0.166783  \n",
            "               popular_food_food                 1.000000            -0.489813  \n",
            "               popular_food_coffee              -0.489813             1.000000  \n",
            "3              is_booking                       -0.013675             0.018004  \n",
            "               popular_food_finedining          -0.484386            -0.436244  \n",
            "               popular_food_food                 1.000000             0.468700  \n",
            "               popular_food_coffee               0.468700             1.000000  \n",
            "4              is_booking                       -0.083160             0.059013  \n",
            "               popular_food_finedining          -0.523656            -0.247855  \n",
            "               popular_food_food                 1.000000            -0.039126  \n",
            "               popular_food_coffee              -0.039126             1.000000  \n"
          ]
        }
      ]
    },
    {
      "cell_type": "markdown",
      "source": [
        "#Printing important variables for is_booking came out of LASSO"
      ],
      "metadata": {
        "id": "DVSXYUTA7Jyo"
      }
    },
    {
      "cell_type": "code",
      "source": [
        "from sklearn.linear_model import Lasso\n",
        "from sklearn.linear_model import LassoCV\n",
        "from sklearn.preprocessing import StandardScaler\n",
        "from sklearn.model_selection import train_test_split\n",
        "import warnings\n",
        "# set the warning filter to \"ignore\"\n",
        "warnings.filterwarnings(\"ignore\")\n",
        "\n",
        "\n",
        "#dropping target variable so that resulting dataframe is predictors only\n",
        "df_x = df.drop('is_booking', axis=1)\n",
        "\n",
        "# Split the data into training and testing sets\n",
        "X_train, X_test, y_train, y_test = train_test_split(df, df.is_booking, \n",
        "                                                           test_size=0.2)\n",
        "\n",
        "# standardize the data\n",
        "scaler = StandardScaler()\n",
        "X = scaler.fit_transform(df_x)\n",
        "y = df.is_booking\n",
        "\n",
        "# create the LassoCV model\n",
        "lasso_cv = LassoCV(cv=5)\n",
        "\n",
        "# fit the model on the data\n",
        "lasso_cv.fit(X, y)\n",
        "\n",
        "# print the optimal alpha value\n",
        "#print(\"Optimal alpha:\", lasso_cv.alpha_)\n",
        "\n",
        "# print the coefficients of the model\n",
        "#print(\"Coefficients:\", lasso_cv.coef_)\n",
        "\n",
        "imp_var_number= sum(lasso_cv.coef_!=0)\n",
        "zero_var_number= sum(lasso_cv.coef_==0)\n",
        "print(\"The number of important variables are:\", imp_var_number)\n",
        "print(\"The number of not-important variables are:\", zero_var_number)"
      ],
      "metadata": {
        "colab": {
          "base_uri": "https://localhost:8080/"
        },
        "id": "tDW6a-Lu-D-G",
        "outputId": "d2900f91-f0c6-4107-c8e6-7c652c8a20d3"
      },
      "execution_count": null,
      "outputs": [
        {
          "output_type": "stream",
          "name": "stdout",
          "text": [
            "The number of important variables are: 65\n",
            "The number of not-important variables are: 90\n"
          ]
        }
      ]
    },
    {
      "cell_type": "code",
      "source": [
        "# find the non-zero coefficients and their corresponding feature names\n",
        "coef = lasso_cv.coef_\n",
        "features = df_x.columns\n",
        "\n",
        "nonzero_features = features[coef != 0]\n",
        "zero_features = features[coef == 0]\n",
        "\n",
        "# print the non-zero features\n",
        "print(\"Non-zero features:\", nonzero_features)\n",
        "print(\"Useless features:\", zero_features)"
      ],
      "metadata": {
        "colab": {
          "base_uri": "https://localhost:8080/"
        },
        "id": "PzyV5CZU7Iyb",
        "outputId": "7b612812-4817-4b86-cc2b-6473ebf0936d"
      },
      "execution_count": null,
      "outputs": [
        {
          "output_type": "stream",
          "name": "stdout",
          "text": [
            "Non-zero features: Index(['user_location_latitude', 'user_location_longitude',\n",
            "       'orig_destination_distance', 'is_mobile', 'is_package', 'channel',\n",
            "       'srch_adults_cnt', 'srch_children_cnt', 'srch_rm_cnt',\n",
            "       'prop_is_branded', 'prop_starrating', 'cnt', 'srch_destination_type_id',\n",
            "       'srch_destination_longitude', 'popular_social_bars',\n",
            "       'popular_naturalfeature_beach', 'popular_food_beer',\n",
            "       'popular_activity_birdwatching', 'popular_activity_boating',\n",
            "       'popular_field_business', 'popular_social_cafes',\n",
            "       'popular_activity_camping', 'popular_entertainment_casino',\n",
            "       'popular_architecture_cathedral', 'popular_tourism_chinatown',\n",
            "       'popular_architecture_churches', 'popular_food_coffee',\n",
            "       'popular_activity_coralreefs', 'popular_activity_dancing',\n",
            "       'popular_activity_dining', 'popular_activity_diving',\n",
            "       'popular_social_familyfriendly', 'popular_naturalfeature_forests',\n",
            "       'popular_historical_historical', 'popular_activity_hockey',\n",
            "       'popular_activity_hunting', 'popular_naturalfeature_islands',\n",
            "       'popular_activity_kayaking', 'popular_naturalfeature_lake',\n",
            "       'popular_cultural_livemusic', 'popular_landmark_monuments',\n",
            "       'popular_naturalfeature_mountains', 'popular_lifestyle_nightlife',\n",
            "       'popular_transport_port', 'popular_lifestyle_relaxing',\n",
            "       'popular_lodging_resorts', 'popular_naturalfeature_river',\n",
            "       'popular_lifestyle_romantic', 'popular_architecture_ruins',\n",
            "       'popular_activity_sailing', 'popular_food_seafood',\n",
            "       'popular_shopping_shopping', 'popular_activity_skiing',\n",
            "       'popular_urban_smalltown', 'popular_activity_snorkeling',\n",
            "       'popular_activity_spas', 'popular_architecture_temples',\n",
            "       'popular_attraction_themepark', 'popular_activity_tours',\n",
            "       'popular_weather_tropical', 'popular_landmark_university',\n",
            "       'popular_urban_urban', 'popular_activity_walking',\n",
            "       'popular_attraction_waterparks', 'popular_activity_whalewatching'],\n",
            "      dtype='object')\n",
            "Useless features: Index(['srch_destination_id', 'srch_destination_latitude',\n",
            "       'popular_activity_adventure', 'popular_attraction_aquarium',\n",
            "       'popular_historical_archaeology', 'popular_architecture_architecture',\n",
            "       'popular_cultural_art', 'popular_activity_baseball',\n",
            "       'popular_activity_basketball', 'popular_activity_biking',\n",
            "       'popular_lifestyle_budget', 'popular_architecture_castle',\n",
            "       'popular_activity_caveexploring', 'popular_food_cocktails',\n",
            "       'popular_activity_conferences', 'popular_naturalfeature_countryside',\n",
            "       'popular_activity_crosscountryskiing', 'popular_cultural_culture',\n",
            "       'popular_naturalfeature_desert', 'popular_activity_ecotourism',\n",
            "       'popular_cultural_entertainment', 'popular_activity_excursions',\n",
            "       'popular_transport_ferry', 'popular_cultural_festivals',\n",
            "       'popular_food_finedining', 'popular_activity_fishing',\n",
            "       'popular_food_food', 'popular_activity_football',\n",
            "       'popular_social_friendlypeople', 'popular_attraction_gardens',\n",
            "       'popular_naturalfeature_glaciers', 'popular_activity_golf',\n",
            "       'popular_activity_hiking', 'popular_landscape_hilly',\n",
            "       'popular_activity_horseracing', 'popular_activity_horsebackriding',\n",
            "       'popular_naturalfeature_hotsprings', 'popular_activity_iceskating',\n",
            "       'popular_activity_indoorskiing', 'popular_cultural_jazz',\n",
            "       'popular_naturalfeature_jungle', 'popular_activity_kitesurfing',\n",
            "       'popular_lifestyle_luxury', 'popular_urban_marina',\n",
            "       'popular_shopping_markets', 'popular_cultural_museums',\n",
            "       'popular_cultural_musicals', 'popular_attraction_naturalparks',\n",
            "       'popular_naturalfeature_nature', 'popular_social_nightclubs',\n",
            "       'popular_naturalfeature_northernlights', 'popular_cultural_opera',\n",
            "       'popular_activity_rafting', 'popular_naturalfeature_rainforest',\n",
            "       'popular_social_restaurants', 'popular_activity_rockclimbing',\n",
            "       'popular_activity_rowing', 'popular_activity_running',\n",
            "       'popular_activity_safari', 'popular_landscape_scenery',\n",
            "       'popular_naturalfeature_sea', 'popular_landscape_secluded',\n",
            "       'popular_activity_segwaytours', 'popular_activity_sharks',\n",
            "       'popular_activity_sightseeing', 'popular_activity_skydiving',\n",
            "       'popular_architecture_skyscrapers', 'popular_activity_sledding',\n",
            "       'popular_activity_snowtubing', 'popular_activity_snowboarding',\n",
            "       'popular_activity_snowmobileriding', 'popular_activity_snowshoeing',\n",
            "       'popular_activity_soccer', 'popular_activity_sports',\n",
            "       'popular_activity_stargazing', 'popular_weather_sunnyweather',\n",
            "       'popular_activity_sunrise', 'popular_activity_sunsets',\n",
            "       'popular_activity_surfing', 'popular_activity_swimming',\n",
            "       'popular_cultural_theater', 'popular_lifestyle_trendy',\n",
            "       'popular_historical_unescosite', 'popular_naturalfeature_volcanoes',\n",
            "       'popular_activity_waterskiing', 'popular_naturalfeature_waterfalls',\n",
            "       'popular_naturalfeature_wildlife', 'popular_activity_windsurfing',\n",
            "       'popular_attraction_wineries', 'popular_attraction_zoo'],\n",
            "      dtype='object')\n"
          ]
        }
      ]
    },
    {
      "cell_type": "markdown",
      "source": [
        "Reducing dataframe to important variables only. Removing unimportant variables from dataframe"
      ],
      "metadata": {
        "id": "wSdyD5v8U26l"
      }
    },
    {
      "cell_type": "code",
      "source": [
        "df_imp = df_x[nonzero_features]\n",
        "\n",
        "#adding target variable \n",
        "#df_imp['is_booking']=y\n",
        "#len(df_imp.columns)\n"
      ],
      "metadata": {
        "id": "z2W4ySG5U2ee"
      },
      "execution_count": null,
      "outputs": []
    },
    {
      "cell_type": "markdown",
      "source": [],
      "metadata": {
        "id": "KwPaW2R-llX_"
      }
    },
    {
      "cell_type": "markdown",
      "source": [
        "#Finding Importance Score using Random Forest (on df_imp)\n",
        "We use the important variables obtained from LASSO to predict booking. We also obtain the importance score of each predictor in order to know what matters the most for predicting the bookings."
      ],
      "metadata": {
        "id": "WpUmf4ivTuYG"
      }
    },
    {
      "cell_type": "code",
      "source": [
        "from sklearn.ensemble import RandomForestClassifier\n",
        "\n",
        "# Load data\n",
        "X=df_imp\n",
        "y=y   #from previous codes y is 'is_booking' column of our dataframe\n",
        "# Train random forest model\n",
        "model = RandomForestClassifier(n_estimators=500, random_state=50)\n",
        "model.fit(X, y)\n",
        "feature_names = list(df_imp.columns)\n",
        "\n",
        "# Get feature importances\n",
        "importances = model.feature_importances_\n",
        "\n",
        "# create a list of tuples, where each tuple contains a feature name and its importance score\n",
        "feature_importances = list(zip(feature_names, importances))\n",
        "\n",
        "# sort the feature importances by importance score in descending order\n",
        "feature_importances.sort(key=lambda x: x[1], reverse=True)\n",
        "\n",
        "# print the feature importances in descending order\n",
        "for feature, importance in feature_importances:\n",
        "    print(f\"{feature}: {importance}\")"
      ],
      "metadata": {
        "colab": {
          "base_uri": "https://localhost:8080/"
        },
        "id": "RI91pL98T7RF",
        "outputId": "c5641845-391f-4b1a-abae-c2ac5412cdd1"
      },
      "execution_count": null,
      "outputs": [
        {
          "output_type": "stream",
          "name": "stdout",
          "text": [
            "orig_destination_distance: 0.10479783261553656\n",
            "user_location_latitude: 0.10166195008649037\n",
            "user_location_longitude: 0.10047539864219124\n",
            "prop_starrating: 0.08686779694591934\n",
            "channel: 0.0764183850953588\n",
            "cnt: 0.05857497341120471\n",
            "srch_adults_cnt: 0.042068059747152935\n",
            "prop_is_branded: 0.040995096750531805\n",
            "srch_children_cnt: 0.026933814016622926\n",
            "is_mobile: 0.020175820399274864\n",
            "srch_rm_cnt: 0.0128270787405801\n",
            "is_package: 0.012073801309499345\n",
            "srch_destination_longitude: 0.009154463183962682\n",
            "popular_landmark_university: 0.0081327917039344\n",
            "popular_activity_hockey: 0.008114688493287945\n",
            "popular_field_business: 0.007447794713850649\n",
            "popular_activity_skiing: 0.007427370381222555\n",
            "popular_food_beer: 0.00739308770969173\n",
            "popular_food_coffee: 0.007377648710953645\n",
            "popular_activity_tours: 0.007035274730357352\n",
            "popular_activity_walking: 0.006901760271654517\n",
            "popular_lifestyle_relaxing: 0.0068993672788929105\n",
            "popular_naturalfeature_beach: 0.006859076930928296\n",
            "popular_social_bars: 0.006825361252196178\n",
            "popular_activity_spas: 0.006771984678356061\n",
            "popular_shopping_shopping: 0.006639471826703336\n",
            "popular_activity_hunting: 0.00659065612757499\n",
            "popular_social_familyfriendly: 0.006533582314368122\n",
            "popular_cultural_livemusic: 0.006386107530839008\n",
            "popular_historical_historical: 0.006301288506432808\n",
            "popular_lifestyle_romantic: 0.006273800566711481\n",
            "popular_urban_urban: 0.006261290962095781\n",
            "popular_activity_birdwatching: 0.0062555382414143925\n",
            "popular_activity_dining: 0.006080711457996855\n",
            "popular_activity_boating: 0.006009303467136466\n",
            "popular_naturalfeature_river: 0.005990688128122876\n",
            "popular_naturalfeature_lake: 0.0059584630193343195\n",
            "popular_social_cafes: 0.005900242384160193\n",
            "popular_naturalfeature_mountains: 0.0058775706542582426\n",
            "popular_activity_camping: 0.005822223231592216\n",
            "popular_naturalfeature_forests: 0.005816238430903054\n",
            "popular_urban_smalltown: 0.0057966774833129175\n",
            "popular_activity_dancing: 0.005693398405569574\n",
            "popular_activity_kayaking: 0.005588689758950111\n",
            "popular_naturalfeature_islands: 0.005572199284905314\n",
            "popular_landmark_monuments: 0.0054496905549041375\n",
            "popular_entertainment_casino: 0.005432540366301682\n",
            "popular_lifestyle_nightlife: 0.005431317234328621\n",
            "popular_activity_snorkeling: 0.005419433388478088\n",
            "popular_attraction_themepark: 0.005365456179573786\n",
            "popular_architecture_churches: 0.005329889334436505\n",
            "popular_activity_sailing: 0.005265011579777742\n",
            "popular_transport_port: 0.005153651588714384\n",
            "popular_attraction_waterparks: 0.005148871272007333\n",
            "popular_food_seafood: 0.005118551347434414\n",
            "popular_weather_tropical: 0.005058738976695989\n",
            "popular_activity_diving: 0.004998052263665111\n",
            "popular_tourism_chinatown: 0.004909636477655079\n",
            "popular_architecture_cathedral: 0.004853409845312179\n",
            "popular_architecture_temples: 0.0048250899613531606\n",
            "popular_activity_coralreefs: 0.004631723869051918\n",
            "popular_activity_whalewatching: 0.004613606032157172\n",
            "popular_lodging_resorts: 0.0045321166100327935\n",
            "popular_architecture_ruins: 0.004439129755588813\n",
            "srch_destination_type_id: 0.0024652637804971223\n"
          ]
        }
      ]
    },
    {
      "cell_type": "code",
      "source": [
        "from sklearn.metrics import accuracy_score\n",
        "from sklearn.model_selection import train_test_split\n",
        "import pandas as pd\n",
        "\n",
        "\n",
        "# Split your data into training and testing sets\n",
        "X_train, X_test, y_train, y_test = train_test_split(df_imp, y, test_size=0.2, random_state=42)\n",
        "\n",
        "# Train a random forest classifier on the training set\n",
        "rf_classifier = RandomForestClassifier(n_estimators=500, random_state=42)\n",
        "rf_classifier.fit(X_train, y_train)\n",
        "\n",
        "# Make predictions on the test set\n",
        "y_pred = rf_classifier.predict(X_test)\n",
        "\n",
        "# Calculate the accuracy of the classifier\n",
        "accuracy = accuracy_score(y_test, y_pred)\n",
        "print('Accuracy:', accuracy)\n"
      ],
      "metadata": {
        "colab": {
          "base_uri": "https://localhost:8080/"
        },
        "id": "tpkiUZnzdSC5",
        "outputId": "04ceda31-74f6-442d-d6db-d6480e62a610"
      },
      "execution_count": null,
      "outputs": [
        {
          "output_type": "stream",
          "name": "stdout",
          "text": [
            "Accuracy: 0.8650444548432382\n"
          ]
        }
      ]
    },
    {
      "cell_type": "markdown",
      "source": [
        "Acuuracy using all the variables (including unimportant ones)"
      ],
      "metadata": {
        "id": "9nDAW36pgyNM"
      }
    },
    {
      "cell_type": "code",
      "source": [
        "from sklearn.metrics import accuracy_score\n",
        "from sklearn.model_selection import train_test_split\n",
        "import pandas as pd\n",
        "\n",
        "\n",
        "# Split your data into training and testing sets\n",
        "X_train, X_test, y_train, y_test = train_test_split(df_x, y, test_size=0.2, random_state=42)\n",
        "\n",
        "# Train a random forest classifier on the training set\n",
        "rf_classifier = RandomForestClassifier(n_estimators=500, random_state=42)\n",
        "rf_classifier.fit(X_train, y_train)\n",
        "\n",
        "# Make predictions on the test set\n",
        "y_pred = rf_classifier.predict(X_test)\n",
        "\n",
        "# Calculate the accuracy of the classifier\n",
        "accuracy = accuracy_score(y_test, y_pred)\n",
        "print('Accuracy:', accuracy)\n"
      ],
      "metadata": {
        "colab": {
          "base_uri": "https://localhost:8080/"
        },
        "id": "PA2fzgLigxn_",
        "outputId": "9e551d51-c947-44cb-d7f3-eeefdd7b52ee"
      },
      "execution_count": null,
      "outputs": [
        {
          "output_type": "stream",
          "name": "stdout",
          "text": [
            "Accuracy: 0.8648104819840898\n"
          ]
        }
      ]
    }
  ]
}